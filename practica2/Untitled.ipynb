{
 "cells": [
  {
   "cell_type": "markdown",
   "id": "d54f78d9",
   "metadata": {},
   "source": [
    "1. Tomando el texto del README.md de numpy, copiar y pegar el texto en una variable, luego\n",
    "imprima todas las líneas que contienen 'http' o 'https'.\n",
    "2. Indique la palabra que aparece mayor cantidad de veces en el texto del README.md de numpy.\n",
    "Copie y pegue el texto en una varible.\n",
    "3. Dado el siguiente texto guardado en la varible jupyter_info, solicite por teclado una letra e imprima\n",
    "las palabras que comienzan con dicha letra. En caso que no se haya inrgesado un letra, indique el error. Ver: módulo string\n",
    "4. Para la aceptación de un artículo en un congreso se deﬁnen las siguientes especiﬁcaciones que\n",
    "deben cumplir y recomendaciones de escritura:\n",
    "• título: 10 palabras como máximo\n",
    "• cada oración del resumen:\n",
    "▪ hasta 12 palabras: fácil de leer\n",
    "▪ entre 13-17 palabras: aceptable para leer\n",
    "▪ entre 18-25 palabras: difícil de leer\n",
    "▪ mas de 25 palabras: muy difícil\n",
    "Dado un artículo en formato string, deﬁna si cumple las especiﬁcaciones del título y cuántas oraciones\n",
    "tiene de cada categoría.\n",
    "5. Dada una frase y un string ingresados por teclado (en ese orden), genere una lista de palabras, y\n",
    "sobre ella, informe la cantidad de palabras en las que se encuentra el string. No distingir entre\n",
    "mayúsculas y minúsculas.\n",
    "6. Retomamos el código visto en la teoría, que informaba si una palabra contenía la letra a en una\n",
    "palabra ingresada\n",
    "In [1]: palabra = input(\"Ingresá una palabra: \")\n",
    "if \"a\" in palabra:\n",
    "print(\"Hay letras a.\")\n",
    "else:\n",
    "print(\"No hay letras a. \")\n",
    "Ingresá una palabra: mundo\n",
    "No hay letras a.\n",
    "Si ahora queremos saber si contiene la letra a y también la letra n, cómo lo modiﬁcamos?\n",
    "7. Dada una frase identiﬁcar mayúsculas, minúsculas y caracteres no letras y contar la cantidad de\n",
    "palabras sin distinguir entre mayúsculas y minúsculas, en la frase.\n",
    "8. Escriba un programa que solicite que se ingrese una palabra o frase y permita identiﬁcar si la\n",
    "misma es un Heterograma (tenga en cuenta que el contenido del enlace es una traducción del\n",
    "inglés por lo cual las palabras que nombra no son heterogramas en español). Un Heterograma es\n",
    "una palabra o frase que no tiene ninguna letra repetida entre sus caracteres.\n",
    "9. Escriba un programa que solicite por teclado una palabra y calcule el valor de la misma dada la\n",
    "siguiente tabla de valores del juego Scrabble:\n",
    "Letra\n",
    "valor\n",
    "A, E, I, O, U, L, N, R, S, T 1\n",
    "D, G2\n",
    "B, C, M, P3\n",
    "F, H, V, W, Y4\n",
    "K5\n",
    "J, X8\n",
    "Q, Z10\n",
    "*Tenga en cuenta qué estructura elige para guardar estos valores en Python"
   ]
  }
 ],
 "metadata": {
  "kernelspec": {
   "display_name": "Python 3 (ipykernel)",
   "language": "python",
   "name": "python3"
  },
  "language_info": {
   "codemirror_mode": {
    "name": "ipython",
    "version": 3
   },
   "file_extension": ".py",
   "mimetype": "text/x-python",
   "name": "python",
   "nbconvert_exporter": "python",
   "pygments_lexer": "ipython3",
   "version": "3.11.2"
  }
 },
 "nbformat": 4,
 "nbformat_minor": 5
}
