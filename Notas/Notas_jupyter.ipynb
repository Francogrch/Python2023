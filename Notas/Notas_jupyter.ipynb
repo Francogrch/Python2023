{
 "cells": [
  {
   "attachments": {},
   "cell_type": "markdown",
   "metadata": {},
   "source": [
    "# Notas Seminario Python 2023"
   ]
  },
  {
   "attachments": {},
   "cell_type": "markdown",
   "metadata": {},
   "source": [
    "Python resumen teoria\n",
    "\n",
    "\n",
    "Simple es mejor que complejo.\n",
    "\n",
    "\n",
    "Plano es mejor que anidado.\n",
    "\n",
    "\n",
    "Espaciado es mejor que denso.\n",
    "\n",
    "\n",
    "La legibilidad es importante."
   ]
  },
  {
   "attachments": {},
   "cell_type": "markdown",
   "metadata": {},
   "source": []
  },
  {
   "attachments": {},
   "cell_type": "markdown",
   "metadata": {},
   "source": [
    "## Tipos de datos"
   ]
  },
  {
   "attachments": {},
   "cell_type": "markdown",
   "metadata": {},
   "source": [
    "### Cadenas\n",
    "Las cadenas son inmutables"
   ]
  },
  {
   "cell_type": "code",
   "execution_count": null,
   "metadata": {},
   "outputs": [],
   "source": [
    "cadena = \"Python\"\n",
    "string_1 = 'Python' \n",
    "string_2 = \"ATENCION\" # 'ATENCION'\n",
    "string_3 =\"\"\"Hola\n",
    "        Texto de varias lineas\n",
    "            \"\"\"\n",
    "string_1 + string_2 #PythonATENCION\n",
    "string_1 * 4 #PythonPythonPythonPython\n",
    "len(string_1) #Longitud de cadena 6\n",
    "cadena[-2]\n",
    "cadena[3:] #El formato es cadena[inicio:fin]\n",
    "cadena[:]"
   ]
  },
  {
   "attachments": {},
   "cell_type": "markdown",
   "metadata": {},
   "source": [
    "### Metodos de candenas"
   ]
  },
  {
   "cell_type": "code",
   "execution_count": null,
   "metadata": {},
   "outputs": [],
   "source": [
    "cad = \"Holaaa\"\n",
    "cad.upper() #HOLAAA\n",
    "cad.lower() #holaaa\n",
    "cad.islower() #False\n",
    "cad.isupper() #False\n",
    "cad.count(\"a\") #3\n",
    "cad.center(70, \"*\") #'*******************Holaaa********************'\n",
    "cad.strip() # Elimina todos los caracteres que esten como parametros\n",
    "cadena.startswith(\"2\") #bool si comienza con ese valor\n",
    "cadena.endswith((\"ar\", \"er\", \"ir\")) #bool si comienza con esos valores. Se pasa una tupla\n",
    "\"Somos campeones del mundo!!!\".split() #['Somos', 'campeones', 'del', 'mundo!!!']\n",
    "cad = \"Hola {} !! Intentaste {} \"\n",
    "cad.format('Lionel', 4 ) #Definir una cadena con cierto formato predefinido\n",
    "'Hola Lionel !! Intentaste 4'"
   ]
  },
  {
   "attachments": {},
   "cell_type": "markdown",
   "metadata": {},
   "source": [
    "### f-Strings"
   ]
  },
  {
   "cell_type": "code",
   "execution_count": null,
   "metadata": {},
   "outputs": [],
   "source": [
    "nombre = 'Lionel'\n",
    "intento = 4\n",
    "print(f'Hola {nombre} !! Intestaste {intento}') # 'Hola Lionel !! Intentaste 4'\n",
    "print(f\"La mejor canción de todas:\\n{nombre:<30}\\n{intento:>50}\")  #\\n salto de linea, nombre:<30 Justifica izquierda, intento:>50 Justifica derecha\n",
    "print(f\"{nombre=}\") #nombre = 'Lionel'\n",
    "print(f\"\\n{nombre:^30}\") #:^30 Centra\n",
    "print(f\"\\n{intento:*^50}\") #*^50 Centra con caracter *"
   ]
  },
  {
   "attachments": {},
   "cell_type": "markdown",
   "metadata": {},
   "source": [
    "## Estructuras de control y usos"
   ]
  },
  {
   "attachments": {},
   "cell_type": "markdown",
   "metadata": {},
   "source": [
    "### Expresion condicional\n",
    "Python evalua con circuito corto\n",
    "Sintaxis:\n",
    " - A if C else B"
   ]
  },
  {
   "attachments": {},
   "cell_type": "markdown",
   "metadata": {},
   "source": [
    "### Operador in"
   ]
  },
  {
   "cell_type": "code",
   "execution_count": null,
   "metadata": {},
   "outputs": [],
   "source": [
    "if \"a\" in cad: # operador in para saber si existe el caracter\n",
    "    print(\"Hay letras a\")"
   ]
  },
  {
   "attachments": {},
   "cell_type": "markdown",
   "metadata": {},
   "source": [
    "## For"
   ]
  },
  {
   "cell_type": "code",
   "execution_count": null,
   "metadata": {},
   "outputs": [],
   "source": [
    "cadena = \"0123\"\n",
    "for elem in cadena:\n",
    "    print(elem)\n",
    "for i in range(10):\n",
    "    print(i, end=\"-\") #Cambia \\n por '-' retorna 0-1-2-3-4-5-6-7-8-9-"
   ]
  },
  {
   "attachments": {},
   "cell_type": "markdown",
   "metadata": {},
   "source": [
    "### Funcion range()"
   ]
  },
  {
   "cell_type": "code",
   "execution_count": null,
   "metadata": {},
   "outputs": [],
   "source": [
    "valor_inicial = 1\n",
    "valor_final = 10\n",
    "paso = 1\n",
    "range(valor_inicial,valor_final,paso) # '1,2,3,4,5,6,7,8,9,10'\n",
    "range(valor_final) # '0,1,2,3,4,5,6,7,8,9'"
   ]
  },
  {
   "attachments": {},
   "cell_type": "markdown",
   "metadata": {},
   "source": []
  },
  {
   "attachments": {},
   "cell_type": "markdown",
   "metadata": {},
   "source": [
    "## Estructuras de datos (Colecciones)"
   ]
  },
  {
   "attachments": {},
   "cell_type": "markdown",
   "metadata": {},
   "source": [
    "## Listas"
   ]
  },
  {
   "cell_type": "code",
   "execution_count": null,
   "metadata": {},
   "outputs": [],
   "source": [
    "lista = [] #son mutables\n",
    "varios = [1, \"dos\", [3, \"cuatro\"], True] #Heteregeneas\n",
    "varios[2][1] = [3, \"cuatro\"]\n",
    "lista2 = lista.copy() #Copiar para no hacer referencia a la misma\n",
    "duracion_pelis = [152, 161, 142, 157, 138, 153, 146, 130]\n",
    "promedio = sum(duracion_pelis) / len(duracion_pelis)\n",
    "#List Comprehension (Teoria de Conjuntos)\n",
    "mayor_prom = [n for n in duracion_pelis if n > promedio] # n por cada n en duracion_peli si n es mas grande que promedio\n",
    "enzos = [jugador for jugador in jugadores_por_pais.values() for jugadomayor_prom = [n for n in duracion_pelis if n > promedio]r in jugadores if \"Enzo\" in jugador]\n",
    "#Metodos\n",
    "lista.append(x) #agrega atras\n",
    "lista.sort() #ordena lista\n",
    "sorted(lista, key=str.lower) #ordena, considerando a todos los str como lower\n",
    "list(reversed(lista)) #retorna lista al revez\n",
    "sum(list) #suma de los elementos(numeros) de la lista\n",
    "len(list) #cantidad de elemntos\n",
    "max(duracion_pelis) #retorna el numero maximo de la coleccion\n",
    "min(duracion_pelis) #retorna el minimo de la coleccion"
   ]
  },
  {
   "attachments": {},
   "cell_type": "markdown",
   "metadata": {},
   "source": [
    "## Tuplas"
   ]
  },
  {
   "cell_type": "code",
   "execution_count": null,
   "metadata": {},
   "outputs": [],
   "source": [
    "tupla = ()\n",
    "tuplas_1 = (1,) #sin el , no es una tupla\n",
    "nombre_y_apellido = (\"Fernando\", \"Lopez\")\n",
    "nombre_y_apellido = tuple([\"Fernando\", \"Lopez\"])\n",
    "nombre_y_apellido[1] #'Fernando'"
   ]
  },
  {
   "attachments": {},
   "cell_type": "markdown",
   "metadata": {},
   "source": [
    "## Diccionarios"
   ]
  },
  {
   "cell_type": "code",
   "execution_count": null,
   "metadata": {},
   "outputs": [],
   "source": [
    "dic = {} #diccionario vacio\n",
    "dict([(n, ord(n)) for n in string.digits]) #Constructor recibe iterable\n",
    "dic = {'clave0': 'valor', 'clave1':20} #Claves unicas e inmutables\n",
    "#Metodos\n",
    "dic.keys() #lista con llaves\n",
    "dic.values() #lista con valores\n",
    "dic.items() #lista con claves y valores\n",
    "for clave, valor in dic.items(): #recorrer diccionario con variables\n",
    "    print(f\"{clave} : {valor}\")"
   ]
  },
  {
   "attachments": {},
   "cell_type": "markdown",
   "metadata": {},
   "source": [
    "## Conjuntos\n",
    " - Coleccion heterogenea, desordenada, valores unicos, no idexada\n",
    " - Acceso rapido y eficiente para saber si un elemento esta en el conjunto"
   ]
  },
  {
   "cell_type": "code",
   "execution_count": null,
   "metadata": {},
   "outputs": [],
   "source": [
    "set('alabanza') # {'a', 'b', 'l', 'z', 'n'}\n",
    "bandas_nacionales = set((\"Soda Stéreo\", \"La Renga\", \"Los Piojos\")) #constructor\n",
    "bandas = {\"AC/DC\", \"Metallica\", \"Greta Van Fleet\", \"Soda Stéreo\", \"Los Piojos\"}\n",
    "#Set Comprehension\n",
    "mayor_prom_set = {n for n in duracion_pelis if n > promedio}"
   ]
  },
  {
   "attachments": {},
   "cell_type": "markdown",
   "metadata": {},
   "source": [
    "### Operaciones"
   ]
  },
  {
   "cell_type": "code",
   "execution_count": null,
   "metadata": {},
   "outputs": [],
   "source": [
    "for elem in bandas: #recorrer\n",
    "    print(elem)    \n",
    "print(\"Los Piojos\" in bandas) # retorna si el elemento esta en el conjunto\n",
    "todos = bandas | bandas_nacionales #unión entre dos conjuntos.\n",
    "en_ambos = bandas & bandas_nacionales #intersección entre dos conjuntos.\n",
    "internacionales = bandas - bandas_nacionales # diferencia de conjuntos\n",
    "bandas.add(\"Foo Fighters\") #Agregar\n",
    "bandas.issubset() # boolean es un subconjunto de otro conjunto\n",
    "bandas.isdisjoint() # boolean si son disjuntos\n",
    "bandas.issuperset() # boolean si es un superconjunto de otro conjunto\n",
    "bandas.update() #Agrega elementos de un conjunto\n",
    "bandas.discard(\"Soda Stéreo\")  #Borra elemento si existe\n",
    "bandas.remove(\"Foo Fighters\") #Trata de borrar elemento, si no existe da error"
   ]
  },
  {
   "attachments": {},
   "cell_type": "markdown",
   "metadata": {},
   "source": [
    "## Funciones"
   ]
  },
  {
   "cell_type": "code",
   "execution_count": null,
   "metadata": {},
   "outputs": [],
   "source": [
    "def funcion(parametros):\n",
    "    \"\"\" Aca va el docstring \"\"\"\n",
    "    #sentencias\n",
    "    a = 1\n",
    "    b = 2\n",
    "    return a, b #Retorna una tupla con esas dos variables\n",
    "    #return <expresion>"
   ]
  },
  {
   "attachments": {},
   "cell_type": "markdown",
   "metadata": {},
   "source": [
    "### Parametros\n",
    " - Valores por defecto al final\n",
    " - *args para argumentos indefinidos en cantidad, se consideran una lista\n",
    " - **kwargs para argumentos indefinidos utilizados como diccionarios"
   ]
  },
  {
   "cell_type": "code",
   "execution_count": null,
   "metadata": {},
   "outputs": [],
   "source": [
    "def mi_musica(dicci_musica, tipo_musica=\"internacional\", nombre=\"lisa\"): #los que tienen valores por defecto siempre van al final de la lista de parámetros\n",
    "    return None\n",
    "\n",
    "#Usar los argumentos indefinidos como listas\n",
    "def imprimo(*args): #puede ir cualquier nombre\n",
    "    \"\"\" Esta función imprime los argumentos y sus tipos\"\"\"\n",
    "    for valor in args:\n",
    "        print(f\"{valor} es de tipo {type(valor)}\")\n",
    "secuencia = (1, 2, 3) #En este caso paso 3 valores y no 1 lista.\n",
    "imprimo(*secuencia)\n",
    "\n",
    "#Usar los argumentos indefinidos como diccionarios\n",
    "def imprimo_otros_valores(**kwargs): #puede ir cualquier nombre\n",
    "    \"\"\" ..... \"\"\"\n",
    "    for clave, valor in kwargs.items():\n",
    "        print(f\"{clave} es {valor}\")\n",
    "#Pasar Diccionario como diccionario\n",
    "contacto = {\"nombre\": \"Messi\", \"celu\": 12345}#En este caso paso 2 claves y 2 valores, no 1 diccionario.\n",
    "imprimo_otros_valores(**contacto)\n"
   ]
  },
  {
   "attachments": {},
   "cell_type": "markdown",
   "metadata": {},
   "source": [
    "### Atributos de funciones"
   ]
  },
  {
   "cell_type": "code",
   "execution_count": null,
   "metadata": {},
   "outputs": [],
   "source": [
    "funcion.__doc__ #es el docstring**.\n",
    "funcion.__name__ # es una cadena con el nombre la función.\n",
    "funcion.__defaults__# una tupla con los valores por defecto de los parámetros"
   ]
  },
  {
   "attachments": {},
   "cell_type": "markdown",
   "metadata": {},
   "source": [
    "### Lambda - Funciones anonimas"
   ]
  },
  {
   "attachments": {},
   "cell_type": "markdown",
   "metadata": {},
   "source": [
    "Sintaxis:\n",
    "    \n",
    "    lambda parametros : expresion"
   ]
  },
  {
   "cell_type": "code",
   "execution_count": null,
   "metadata": {},
   "outputs": [],
   "source": [
    "lista_de_acciones = [lambda x: x * 2, lambda x: x * 3]\n",
    "for accion in lista_de_acciones:\n",
    "    print(accion(2))\n",
    "\n",
    "def make_incrementor(n):\n",
    "    return lambda x: x + n\n",
    "f = make_incrementor(2)\n",
    "print(f(42))\n",
    "print(make_incrementor(22)(33))"
   ]
  },
  {
   "attachments": {},
   "cell_type": "markdown",
   "metadata": {},
   "source": [
    "### Funcion map, filter, zip"
   ]
  },
  {
   "cell_type": "code",
   "execution_count": null,
   "metadata": {},
   "outputs": [],
   "source": [
    "list(map(funcion, lista)) #aplica una funcion en cada elemento de la lista, y retorna una estructura de datos tipo map\n",
    "num_por_dos = list(map(lambda x: x * 2,range(10)))#retorna los numeros de 0 a 9 multiplicados por 2\n",
    "\n",
    "#filter\n",
    "list(filter(funcion,lista)) #aplica funcion en cada elemento de la lista, y retorna una estructura con los valores que cumpla la condicion\n",
    "num_div_5 = list(filter(lambda x: x % 5 == 0,range(100)))#retorna los numeros que sean divisivles por 5 de 0 a 99\n",
    "\n",
    "#zip \n",
    "list(zip(lista1,lista2,lista3))#itera al mismo tiempo en varias colecciones retorna una estructura con los valores en los mismos indices unidos\n",
    "#enumerate\n",
    "list(enumerate())#asocia un numero a cada iteracion, retorna tuplas con el numero de iteracion, y el valor\n"
   ]
  },
  {
   "attachments": {},
   "cell_type": "markdown",
   "metadata": {},
   "source": [
    "## Modulos"
   ]
  },
  {
   "attachments": {},
   "cell_type": "markdown",
   "metadata": {},
   "source": [
    "- Al importar un modulo podemos acceder a las funciones y variables del modul (archivo)\n",
    "- Actualiza espacios de nombres\n",
    "- __pycache__ .pyc carga mas rapido en memoria, ya que esta copilado"
   ]
  },
  {
   "cell_type": "code",
   "execution_count": null,
   "metadata": {},
   "outputs": [],
   "source": [
    "import nombreModulo import * # (No recomendable) importa todas las funciones del modulo y no es necesario llamarlas por el nombre de los modulos\n",
    "import nombreModulo as m #iguala el nombre del modulo con m\n",
    "m.recurso #uso de recuro en la variable m(nombreModulo)\n",
    "import carpeta.nom_carpeta.nom_subdirectorio #Para buscar en una direccion especifica se cambian los / por .\n",
    "import importlib\n",
    "importlib.reload(modulo) #Recarga el modulo ya que los modulos se cargan en cada sesion del intermprete\n",
    "\n",
    "dir(modulo) # Retorna lista ordenada con los nombres definidos"
   ]
  },
  {
   "attachments": {},
   "cell_type": "markdown",
   "metadata": {},
   "source": [
    "### Variables locales y globales"
   ]
  },
  {
   "attachments": {},
   "cell_type": "markdown",
   "metadata": {},
   "source": [
    "Hay tres espacio de nombres, que se crean en diferentes momentos y tienen diferente tiempo de vida:\n",
    "- __builtins__: se crea al iniciar el interprete y nunca se elimina\n",
    "- Globales: se crea en la definicion de un modulo y normalmente tambien dura hasta que el interprete finaliza\n",
    "- Locales: se crean al invocar una funcion es llamada y se elimina cuando la funcion retorna"
   ]
  },
  {
   "cell_type": "code",
   "execution_count": null,
   "metadata": {},
   "outputs": [],
   "source": [
    "def espacio_de_nombres():\n",
    "    y = 1\n",
    "    def prueba_2():\n",
    "        nonlocal y #para poder acceder a la variable anterior a la funcion\n",
    "        y = 11\n",
    "        return 1\n",
    "    \n",
    "    global x #para acceder a variable global\n",
    "    x = 3"
   ]
  },
  {
   "attachments": {},
   "cell_type": "markdown",
   "metadata": {},
   "source": [
    "- __init__.py si este archivo esta en la carpeta, python interpreta el directorio como un paquete\n",
    "- from package import ** , solo importa lo que este en __all__"
   ]
  },
  {
   "cell_type": "code",
   "execution_count": null,
   "metadata": {},
   "outputs": [],
   "source": [
    "__all__ = [\"echo\",\"surround\"] \n",
    "#esta variable puede estar en __init__.py, y si importamos todo de un paquete que \n",
    "# contiene mas paquetes, solo va a importar los modulos que esten en esta lista"
   ]
  },
  {
   "attachments": {},
   "cell_type": "markdown",
   "metadata": {},
   "source": [
    "#### __main__\n",
    "Un modulo se denomina __main__ cuando es el modulo de nivel superior que se esta ejecutando en el momento"
   ]
  },
  {
   "cell_type": "code",
   "execution_count": null,
   "metadata": {},
   "outputs": [],
   "source": [
    "if __name__ == \"__main__\":#Si el modulo se ejecuta como main, \n",
    "    # va a ejecutar funcion1 y funcion2\n",
    "    funcion1()\n",
    "    funcion2()\n",
    "    import sys #modulo para hacer operaciones con el sistema\n",
    "    uno(sys.argv[1]) \n",
    "    #argv[0] = String con nombre del archivo; \n",
    "    #argv[1] = String con parametros escritos por consola"
   ]
  },
  {
   "attachments": {},
   "cell_type": "markdown",
   "metadata": {},
   "source": [
    "## Modulos usados"
   ]
  },
  {
   "cell_type": "code",
   "execution_count": null,
   "metadata": {},
   "outputs": [],
   "source": [
    "import collections #Este modulo tiene mas estructuras de datos que las definidas por el lenguaje\n",
    "cant_letras = collections.Counter('asxfgf')\n",
    "print(cant_letras.most_common(1)) #retorna la letra mas comun\n",
    "d = collections.deque('xxcvdf') #pilas y colas"
   ]
  },
  {
   "cell_type": "code",
   "execution_count": null,
   "metadata": {},
   "outputs": [],
   "source": [
    "import sys\n",
    "sys.path #Lista de cadenas donde cada cadena son los directorios donde busca los modulos\n",
    "sys.platform #Retorna sistema operativo\n",
    "sys.exit() #sale del programa actual"
   ]
  },
  {
   "cell_type": "code",
   "execution_count": null,
   "metadata": {},
   "outputs": [],
   "source": [
    "import string\n",
    "minusculas = string.ascii_lowercase # 'abcdef...z'\n",
    "mayusculas = string.ascii_uppercase# 'ABCDEF...Z'\n",
    "digitos = string.digits #'0123456789'"
   ]
  },
  {
   "cell_type": "code",
   "execution_count": null,
   "metadata": {},
   "outputs": [],
   "source": [
    "from functools import reduce\n",
    "#reduce\n",
    "list(reduce(funcion,lista)) #aplica funcion con varias variables y un resultado, retorna la operacion en un iterable\n",
    "list(reduce(lambda a, b: a + b, sumar(10)))"
   ]
  },
  {
   "cell_type": "code",
   "execution_count": null,
   "metadata": {},
   "outputs": [],
   "source": [
    "import requests\n",
    "link = \"https//image.tmdb.org/t/p/.../.jpg\"\n",
    "imagen = requests.get(link)#con get devuelve el recurso, si es una pagina devuelve HTML\n",
    "with open('nombreFoto.jpg','wb') as f:\n",
    "    f.write(link.content)#content estan los bytes de la imagen"
   ]
  },
  {
   "cell_type": "code",
   "execution_count": null,
   "metadata": {},
   "outputs": [],
   "source": [
    "import os\n",
    "os.getcwd() #retorna ruta en forma de string"
   ]
  },
  {
   "attachments": {},
   "cell_type": "markdown",
   "metadata": {},
   "source": [
    "#### PySimpleGUI\n",
    "Acá van algunos objetos disponibles en PySimpleGUI:\n",
    "- Buttons: File Browse, Folder Browse, Color chooser, Date picker, etc.\n",
    "- Checkbox, Radio Button, Listbox\n",
    "- Slider, Progress Bar\n",
    "- Multi-line Text Input, Scroll-able Output\n",
    "- Image, Menu, Frame, Column, Graph, Table"
   ]
  },
  {
   "cell_type": "code",
   "execution_count": null,
   "metadata": {},
   "outputs": [],
   "source": [
    "import PySimpleGUI as sg\n",
    "sg.Popup('MI primera ventanta') #Ventana emergente\n",
    "sg.PopupYesNo()\n",
    "sg.PopupOKCancel()\n",
    "texto = sg.popupGetText('Titulo','Ingresar Texto')\n",
    "sg.Popup('Resultados','Ingresaste el siguiente texto',texto)\n",
    "sg.Window(title='titulo', layout[[]],margins=(400,350)).read()#read devuelve tupla con evento\n",
    "\n",
    "#ejemplo\n",
    "layout = [[sg.Text(\"Hola Mundo!\")], [sg.Button(\"OK\")]]\n",
    "window = sg.Window(\"Manejo de eventos\", layout, margins=(200, 150))\n",
    "\n",
    "while True:\n",
    "    event, values = window.read() #Se queda en la espera hasta que ocurra un evento\n",
    "    if event == \"OK\" or event == sg.WIN_CLOSED:\n",
    "        break\n",
    "window.close()\n",
    "\n",
    "layout = [ [sg.Text('Ingresá primer valor'), sg.InputText()], [sg.Text('Ingresá segundo valor'), sg.InputText()], [sg.Button('Ok'), sg.Button('Cancel')] ] #lista de listas, son los elementos de la interfaz\n",
    "\n",
    "sg.ChangeLookAndFeel(\"Darlamber\")#cambia el esquema de colores"
   ]
  },
  {
   "attachments": {},
   "cell_type": "markdown",
   "metadata": {},
   "source": [
    "## Archivos"
   ]
  },
  {
   "cell_type": "code",
   "execution_count": null,
   "metadata": {},
   "outputs": [],
   "source": [
    "open(nombreArchivo)#crea la asignacion dentro del programa con el archivo y en modo 'r'\n",
    "open(nombre,modo)\n",
    "modo = {'r':'read','w':'write','a':'append','x':'create'} # 'r'(escritura) y 'w'(escritura) pone el puntero al principio mientras que el 'a' al final. 'x' da error si ek archivo existe\n",
    "# puede tener un + o un b ademas de las claves del diccionario. con + agrega permisos de lectura/escritura y con b significa que es binario\n",
    "arch = open('archivo.txt','w') #Crea archivo.txt para escritura en la misma carpeta del script\n",
    "# FileExistError si ya esta creado\n",
    "import locale\n",
    "locale.getLocale()#Saber encoding\n"
   ]
  },
  {
   "cell_type": "code",
   "execution_count": null,
   "metadata": {},
   "outputs": [],
   "source": [
    "import os\n",
    "ruta = os.path.dirname(os.path.realpath(\".\")) #ruta actual del archivo\n",
    "ruta_completa = os.path.join(ruta,\"carp1\",\"carp2\",\"archivo.txt\")#genera una ruta con las carpetas aniadidas"
   ]
  },
  {
   "attachments": {},
   "cell_type": "markdown",
   "metadata": {},
   "source": [
    "### Almacenar datos en un archivo"
   ]
  },
  {
   "cell_type": "code",
   "execution_count": null,
   "metadata": {},
   "outputs": [],
   "source": [
    "f = open(\"archivo.txt\",'w')\n",
    "f.write('En Argentina naci') #Agrega el string al archivo y retorna la cantidad de caracteres que pudo guardar\n",
    "f.read(x)#lee el archivo siendo x la cantidad de veces que se mueve el puntero\n",
    "f.close() #cierra el archivo\n",
    "if f.read() == \"\":\n",
    "    print('Esta en EOF')\n",
    "f.readlines()#retorna lineas\n",
    "for linea in f: #leer lineas\n",
    "    print(linea)"
   ]
  },
  {
   "attachments": {},
   "cell_type": "markdown",
   "metadata": {},
   "source": [
    "### JSON\n",
    "Formato diccionario"
   ]
  },
  {
   "cell_type": "code",
   "execution_count": null,
   "metadata": {},
   "outputs": [],
   "source": [
    "import json\n",
    "diccionario = {\"equipo\": \"Bestia\", \"esport\": \"CSGO\", \"pais\": \"Argentina\"}\n",
    "lista_de_dic = [{\"equipo\": \"Bestia\", \"esport\": \"CSGO\", \"pais\": \"Argentina\"}, {\"equipo\": \"equipo2\", \"esport\": \"CSGO\", \"pais\": \"Argentina\"}]\n",
    "json.dumps(lista_de_dic, indent=4)#Devuelve string\n",
    "json.dump(lista_de_dics,archivo)#de Python a JSOn . guarda lista de dic en formato JSON en archivo\n",
    "json.loads()#de JSON a formato Pythonlist_films para string\n",
    "lista_de_dic = json.load(archivo) #convierte JSON a Python. Y guarda el diccionario o lista en la varible \n",
    "\n",
    "#Examples\n",
    "with open(\"criptomonedas.json\",\"w\") as archivo:\n",
    "    json.dump(datos, archivo)\n",
    "\n",
    "with open(\"criptomonedas.json\",\"w\") as archivo:\n",
    "    datos = json.load(archivo)\n",
    "datos_mostrar = json.dumps(archivo)\n"
   ]
  },
  {
   "attachments": {},
   "cell_type": "markdown",
   "metadata": {},
   "source": [
    "### CSV (Comma Separated Value)\n",
    "- Datasets ordenados como tablas\n",
    "- CSV siempre transforma todo a texto para trabajar con numeros hay que castear"
   ]
  },
  {
   "cell_type": "code",
   "execution_count": null,
   "metadata": {},
   "outputs": [],
   "source": [
    "import csv\n",
    "csvreader = csv.reader(archivo,delimiter = ',') #genera un objeto iterador, y el delimiter es el archivo que separa los datos\n",
    "encabezado = next(csvreader)\n",
    "for linea in csvreader:\n",
    "    if linea[1] == \"Movie\":\n",
    "        print(f\"{linea[2]:<40 {linea[3]}}\")\n",
    "show_ar = filter(lambda x:x[5] == \"argentina\" and x[1] == \"Movie\", csvreader)\n",
    "\n",
    "csvreader = csv.DictReader(archivo, delimiter='-') #genera Diccionario\n",
    "\n",
    "archivo_csv_ = open(\"bandas.csv\",\"w\")\n",
    "writer = csv.writer(archivo_csv)\n",
    "writer.writerow(['Colum1','Colum2']) #Escribe fila\n",
    "\n",
    "#Examples\n",
    "with open('arch.csv','w') as archivo:\n",
    "        writer = csv.writer(archivo)\n",
    "        writer.writerrow([\"Sigla\",\"Cripto\",\"Corizacion\"])#De a una fila, este es el encabezado\n",
    "        for moneda in datos:\n",
    "            writer.writerow(moneda['nombre'],moneda['Cripto'],moneda['Corizacion'])\n",
    "                            \n",
    "with open('arch.csv','r') as archivo:\n",
    "        csv_reader = csv.reader(archivo)\n",
    "        encabezado, datos = next(csv_reader), list(csv_reader) #guardamos la primer fila como encabezado y los datos como una lista\n",
    "\n",
    "pelis = filter(lambda x: float(x[5])>9,datos) #Es necesario el casteo ya que el csv tiene strings\n",
    "\n"
   ]
  },
  {
   "attachments": {},
   "cell_type": "markdown",
   "metadata": {},
   "source": [
    "#### with\n",
    "Cierra automaticamente el archivo"
   ]
  },
  {
   "cell_type": "code",
   "execution_count": null,
   "metadata": {},
   "outputs": [],
   "source": [
    "with open(\"bandas.csv\") as archcsv:\n",
    "    csv_reader = csv.reader(archcv, delimiter=',')"
   ]
  },
  {
   "attachments": {},
   "cell_type": "markdown",
   "metadata": {},
   "source": [
    "## Excepciones"
   ]
  },
  {
   "attachments": {},
   "cell_type": "markdown",
   "metadata": {},
   "source": [
    "- Nunca debera mostrar el error el programa\n",
    "- Es un acontencimiento, que ocurre durante la ejecucion del programa , y rompe el flujo del programa\n",
    "- Sirve para que el programa no se rompa\n",
    "- El programa continua hasta el final\n",
    "- Si encuentra la exception mata el bloque que esta dentro del try"
   ]
  },
  {
   "cell_type": "code",
   "execution_count": null,
   "metadata": {},
   "outputs": [],
   "source": [
    "try:\n",
    "    sentencias\n",
    "except excepcion1, expecion2:\n",
    "    sentencias\n",
    "except expecion3 as variable:\n",
    "    sentencias\n",
    "else:#Se ejecuta solo si no se produjo/levanto una expecion\n",
    "    sentencias\n",
    "finally:#Se ejeucta siempre, por mas que no halla una exepcion\n",
    "    sentencias"
   ]
  },
  {
   "cell_type": "code",
   "execution_count": null,
   "metadata": {},
   "outputs": [],
   "source": [
    "try:\n",
    "    print(xx)\n",
    "except NameError:\n",
    "    print('Usaste una variable que no esta definida')"
   ]
  },
  {
   "cell_type": "code",
   "execution_count": null,
   "metadata": {},
   "outputs": [],
   "source": [
    "mi_musica = {70: [\"Stairway to heaven\", \"Bohemian Rhapsody\"], 80: [\"Dancing in the dark\", \"Welcome to the jungle\", \"Under␣\n",
    "↪pressure\"],2000:[\"Given up\", \"The pretender\"]}\n",
    "tema = input(\"Ingresá un nuevo tema (FIN para terminar): \")\n",
    "while tema !=\"FIN\":\n",
    "    try:\n",
    "        decada = int(input(\"ingresá a qué década pertenece: \"))\n",
    "        mi_musica[decada].append(tema)\n",
    "    except (ValueError, KeyError):\n",
    "        print(\"Hubo un error en el ingreso de datos. Intentá de nuevo\")\n",
    "    except:\n",
    "        print(\"Ups! Algo ocurrió\")\n",
    "    tema = input(\"Ingresá un nuevo tema (FIN para terminar): \")\n",
    "print(\"Terminé de procesar mi música favorita\")"
   ]
  },
  {
   "attachments": {},
   "cell_type": "markdown",
   "metadata": {},
   "source": [
    "### Metodo de propagacion"
   ]
  },
  {
   "attachments": {},
   "cell_type": "markdown",
   "metadata": {},
   "source": [
    "1. Busca estaticamente\n",
    "2. Busca dinamicamente\n",
    "3. Retorna la exepcion si existe, en el caso que no retorna error\n",
    "\n",
    "- Al encontrar la excepcion salta al except directamente y finaliza el bloque que esta dentro del try\n",
    "- Python busca la exepcion y si no la encuntra l busca en el bloque anterior\n",
    "  "
   ]
  },
  {
   "cell_type": "code",
   "execution_count": null,
   "metadata": {},
   "outputs": [],
   "source": [
    "bandas_rock = {0:\"Led Zeppelin\", 2:\"Deep Purple\", 3:\"Black Sabbath\"}\n",
    "try:\n",
    "    for x in range(0,6):\n",
    "        try:\n",
    "            print(bandas_rock[z])\n",
    "            # OJO que estamos usando la variable z\n",
    "        except KeyError:\n",
    "            print(\"Ups! Parece que hubo un problema..\")\n",
    "except NameError:\n",
    "    print('OJO! Se está usando una variable que no existe')\n",
    "print('Sigo con mi programa....')"
   ]
  },
  {
   "attachments": {},
   "cell_type": "markdown",
   "metadata": {},
   "source": [
    "#### Raise\n",
    "Levanta la ultima exepcion generada"
   ]
  },
  {
   "cell_type": "code",
   "execution_count": null,
   "metadata": {},
   "outputs": [],
   "source": [
    "raise KeyError #De esta manera se puede levantar una exepcion de manera directa\n",
    "raise #Levanta la ultima expecion                    \n",
    "try \n",
    "    ...\n",
    "except KeyErorr as exc\n",
    "    dato_error = exc\n",
    "    import sys\n",
    "    print(sys.exc_info())\n",
    "print(dato_error) #En dato error esta guardado el valor con el cual se levanto la exepcion \n"
   ]
  },
  {
   "attachments": {},
   "cell_type": "markdown",
   "metadata": {},
   "source": [
    "## POO"
   ]
  },
  {
   "attachments": {},
   "cell_type": "markdown",
   "metadata": {},
   "source": [
    "### Definiciones\n",
    "- Obejeto: entidad que encapsula propiedades y funciones\n",
    "- Metodos = comportamiento del objeto\n",
    "- Propiedades =  estado interno\n",
    "- Clases: estructura de un objeto, tanto metodos como propiedades.\n",
    "- Instancias de una clase: interfaz publica es lo que se puede acceder dentro del objeto por fuera de la clase"
   ]
  },
  {
   "attachments": {},
   "cell_type": "markdown",
   "metadata": {},
   "source": [
    "### Variables privadas"
   ]
  },
  {
   "attachments": {},
   "cell_type": "markdown",
   "metadata": {},
   "source": [
    "En python no hay variables privadas, por ende hay una convencion.\n",
    "- Por convencion las variables o metodos privadas se anteponen un '_'\n",
    "- Para que genere un error al querer acceder se pone '__', pero se puede acceder de igualmanera mediante la clase\n",
    "- En python cuando un identificador comienza con '__' es remplazado por _NombreClase__\n"
   ]
  },
  {
   "cell_type": "code",
   "execution_count": null,
   "metadata": {},
   "outputs": [],
   "source": [
    "class Usuario():#CamelCase para clases segun PEP8\n",
    "    \"\"\"Define la entidad que representa a un usuario en UNLPImage\"\"\"\n",
    "    #Todas las instancias de clases apuntan a las mismas \"variables de clases\"\n",
    "    #Crea un nuevo espacio de nombres: tabla con nombres de variables\n",
    "    profesores = [] #variable de clase\n",
    "    #Se puede acceder a la variable con el nombre de la clase o se puede acceder mediante un metodo\n",
    "    \n",
    "    #Inicializador, no constructor - Lugar donde se definen las variables de instancia\n",
    "    def __init__(self,nom=\"Tony Stark\",alias=\"Ironman\"):#Para poder hacer sobrecarga de \"Inicializadores\", hay que poner valores por defecto\n",
    "        self.nombre = nom #variable de instancia publica\n",
    "        self.nick = alias #variables de instancia publica\n",
    "        self._avatar = None #vairable de instancia Privada\n",
    "        self.__pass = None #variable de instancia mas privada\n",
    "    #Metodos\n",
    "    def cambiar_nombre(self,nombre):#El primer argumento siempre se llamara self, ya que la variable que este en ese lugar tendra esa funcion\n",
    "        self.nombre = nombre\n",
    "    #Getter y Setters\n",
    "    def get_profesores(self):\n",
    "        return self.profesores\n",
    "    #al momento de invocar a cambiar_nombre solamente sera con un parametro\n",
    "#Instanciar una clase\n",
    "objeto = NombreClase()"
   ]
  },
  {
   "attachments": {},
   "cell_type": "markdown",
   "metadata": {},
   "source": [
    "#### Agregar de forma dinamica variables de instancia o metodos"
   ]
  },
  {
   "cell_type": "code",
   "execution_count": null,
   "metadata": {},
   "outputs": [],
   "source": [
    "class SuperHeroe:\n",
    "    pass\n",
    "tony = SuperHeroe()\n",
    "tony.nombre = \"Tony Stark\"\n",
    "tony.sot_Ironman = lambda : True if tony.alias == \"Ironman\" else False\n",
    "#Borrar dinamicamente con palabra reservada del\n",
    "del tony.nombre"
   ]
  },
  {
   "attachments": {},
   "cell_type": "markdown",
   "metadata": {},
   "source": [
    "#### Decoradores\n",
    "Un decorador es una funcion que recibe una funcion como parametro\n"
   ]
  },
  {
   "cell_type": "code",
   "execution_count": null,
   "metadata": {},
   "outputs": [],
   "source": [
    "def decorador(funcion):\n",
    "    def funcion_interna():\n",
    "        funcion()\n",
    "    return funcion_interna()\n",
    "\n",
    "def otra_funcion():\n",
    "    pass\n",
    "\n",
    "variable = decorador(otra_funcion)\n",
    "#Es lo mismo que escribirlo de esta manera\n",
    "@decorador\n",
    "def variable():\n",
    "    pass"
   ]
  },
  {
   "attachments": {},
   "cell_type": "markdown",
   "metadata": {},
   "source": [
    "### Property\n",
    "Sirve para hacer propiedades de objetos, y de esta manera hacerlos privados."
   ]
  },
  {
   "attachments": {},
   "cell_type": "markdown",
   "metadata": {},
   "source": [
    "Los decoradores se utiliza la mayoria de las veces al utilizar POO, con el decorador @property"
   ]
  },
  {
   "cell_type": "code",
   "execution_count": null,
   "metadata": {},
   "outputs": [],
   "source": [
    "class NombrePrueba(): #CamelCase\n",
    "    #estado interno\n",
    "    def __init__(self, var1, var2): # Metodo init para definir variables de instancia\n",
    "        self._var1 = var1 #variable privada\n",
    "        self.__var2 = var2 #variable super privada\n",
    "    def cambiar_nombre(self,var1): #comportamientos es necesario el self siempre\n",
    "        self._var1 = var1\n",
    "    \n",
    "    #Getters y setters\n",
    "    def get_var1(self): #retornar la variable\n",
    "        return _var1\n",
    "    \n",
    "    def set_var1(self,var1): #modificar la variable\n",
    "        self._var1=var1\n",
    "    def del_var1(self,var1):\n",
    "        del self._var1\n",
    "    #Property\n",
    "    #Permiten trabajr con las variables de instacia no publicas, llamando a las funciones que esten por parametro\n",
    "    var1 = property(get_var1,set_var1,del_var1,'Este es el doctring')\n",
    "    #Forma general\n",
    "    property(fget=None, fset=None, fdel=None, doc=None)\n",
    "\n",
    "    #decorador\n",
    "    @property\n",
    "    def x(self):\n",
    "        return self\n",
    "    \n",
    "    @x.setter\n",
    "    def x(self, value):\n",
    "        self.x = value"
   ]
  },
  {
   "attachments": {},
   "cell_type": "markdown",
   "metadata": {},
   "source": [
    "### Herencia\n",
    "\n",
    "Una clase derivada puede heredar metodos, propiedades, y variables de una clase base\n",
    "- Python es de herencia multiple"
   ]
  },
  {
   "cell_type": "code",
   "execution_count": null,
   "metadata": {},
   "outputs": [],
   "source": [
    "class ClaseDerivada(ClaseBase):\n",
    "    def __init__(self,nombre,banda=None):\n",
    "        ClaseBase.__init__(self,nombre,\"guitarra\",banda)#Es necesario llamar al __init__ del padre\n",
    "        self.instrumento = \"guitarra acustica\"\n",
    "    def info(self): #Si este metodo tambien existe en la ClaseBase, se quedara con el metodo de la claseDerivada\n",
    "        print('Inforamcion')"
   ]
  },
  {
   "attachments": {},
   "cell_type": "markdown",
   "metadata": {},
   "source": [
    "Para saber si es una instanncia o sub clase"
   ]
  },
  {
   "cell_type": "code",
   "execution_count": null,
   "metadata": {},
   "outputs": [],
   "source": [
    "isinstance(Clase1,Clase2) #Es instancias\n",
    "issubclass(Clase1,Clase2) #Es subclase"
   ]
  },
  {
   "attachments": {},
   "cell_type": "markdown",
   "metadata": {},
   "source": [
    "### Herencia multiple"
   ]
  },
  {
   "cell_type": "code",
   "execution_count": null,
   "metadata": {},
   "outputs": [],
   "source": [
    "class ClaseDerivadaMultiple(ClaseBase1,ClaseBase2): #La ClaseBase1 tiene mas prioridad MRO\n",
    "    def __init__(self,var1,var2):\n",
    "        ClaseBase1.__init__()\n",
    "        CLaseBase2.__init__()"
   ]
  },
  {
   "cell_type": "code",
   "execution_count": null,
   "metadata": {},
   "outputs": [],
   "source": [
    "#MRO\n",
    "ClaseDerivadaMultiple.__mro__ #retorna una lista con la prioridad al momento de buscar metodos o variables de clase "
   ]
  }
 ],
 "metadata": {
  "kernelspec": {
   "display_name": "Python 3",
   "language": "python",
   "name": "python3"
  },
  "language_info": {
   "name": "python",
   "version": "3.11.1"
  },
  "orig_nbformat": 4
 },
 "nbformat": 4,
 "nbformat_minor": 2
}
