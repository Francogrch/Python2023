{
 "cells": [
  {
   "attachments": {},
   "cell_type": "markdown",
   "metadata": {},
   "source": [
    "# Notas Seminario Python 2023"
   ]
  },
  {
   "attachments": {},
   "cell_type": "markdown",
   "metadata": {},
   "source": [
    "Python resumen teoria\n",
    "\n",
    "\n",
    "Simple es mejor que complejo.\n",
    "\n",
    "\n",
    "Plano es mejor que anidado.\n",
    "\n",
    "\n",
    "Espaciado es mejor que denso.\n",
    "\n",
    "\n",
    "La legibilidad es importante."
   ]
  },
  {
   "attachments": {},
   "cell_type": "markdown",
   "metadata": {},
   "source": []
  },
  {
   "attachments": {},
   "cell_type": "markdown",
   "metadata": {},
   "source": [
    "## Tipos de datos"
   ]
  },
  {
   "attachments": {},
   "cell_type": "markdown",
   "metadata": {},
   "source": [
    "### Cadenas\n",
    "Las cadenas son inmutables"
   ]
  },
  {
   "cell_type": "code",
   "execution_count": null,
   "metadata": {},
   "outputs": [],
   "source": [
    "cadena = \"Python\"\n",
    "string_1 = 'Python' \n",
    "string_2 = \"ATENCION\" # 'ATENCION'\n",
    "string_3 =\"\"\"Hola\n",
    "        Texto de varias lineas\n",
    "            \"\"\"\n",
    "string_1 + string_2 #PythonATENCION\n",
    "string_1 * 4 #PythonPythonPythonPython\n",
    "len(string_1) #Longitud de cadena 6\n",
    "cadena[-2]\n",
    "cadena[3:] #El formato es cadena[inicio:fin]\n",
    "cadena[:]"
   ]
  },
  {
   "attachments": {},
   "cell_type": "markdown",
   "metadata": {},
   "source": [
    "### Metodos de candenas"
   ]
  },
  {
   "cell_type": "code",
   "execution_count": null,
   "metadata": {},
   "outputs": [],
   "source": [
    "cad = \"Holaaa\"\n",
    "cad.upper() #HOLAAA\n",
    "cad.lower() #holaaa\n",
    "cad.islower() #False\n",
    "cad.isupper() #False\n",
    "cad.count(\"a\") #3\n",
    "cad.center(70, \"*\") #'*******************Holaaa********************'\n",
    "cad.strip() # Elimina todos los caracteres que esten como parametros\n",
    "cadena.startswith(\"2\") #bool si comienza con ese valor\n",
    "cadena.endswith((\"ar\", \"er\", \"ir\")) #bool si comienza con esos valores. Se pasa una tupla\n",
    "\"Somos campeones del mundo!!!\".split() #['Somos', 'campeones', 'del', 'mundo!!!']\n",
    "cad = \"Hola {} !! Intentaste {} \"\n",
    "cad.format('Lionel', 4 ) #Definir una cadena con cierto formato predefinido\n",
    "'Hola Lionel !! Intentaste 4'"
   ]
  },
  {
   "attachments": {},
   "cell_type": "markdown",
   "metadata": {},
   "source": [
    "### f-Strings"
   ]
  },
  {
   "cell_type": "code",
   "execution_count": null,
   "metadata": {},
   "outputs": [],
   "source": [
    "nombre = 'Lionel'\n",
    "intento = 4\n",
    "print(f'Hola {nombre} !! Intestaste {intento}') # 'Hola Lionel !! Intentaste 4'\n",
    "print(f\"La mejor canción de todas:\\n{nombre:<30}\\n{intento:>50}\")  #\\n salto de linea, nombre:<30 Justifica izquierda, intento:>50 Justifica derecha\n",
    "print(f\"{nombre=}\") #nombre = 'Lionel'\n",
    "print(f\"\\n{nombre:^30}\") #:^30 Centra\n",
    "print(f\"\\n{intento:*^50}\") #*^50 Centra con caracter *"
   ]
  },
  {
   "attachments": {},
   "cell_type": "markdown",
   "metadata": {},
   "source": [
    "## Estructuras de control y usos"
   ]
  },
  {
   "attachments": {},
   "cell_type": "markdown",
   "metadata": {},
   "source": [
    "### Expresion condicional\n",
    "Python evalua con circuito corto\n",
    "Sintaxis:\n",
    " - A if C else B"
   ]
  },
  {
   "attachments": {},
   "cell_type": "markdown",
   "metadata": {},
   "source": [
    "### Operador in"
   ]
  },
  {
   "cell_type": "code",
   "execution_count": null,
   "metadata": {},
   "outputs": [],
   "source": [
    "if \"a\" in cad: # operador in para saber si existe el caracter\n",
    "    print(\"Hay letras a\")"
   ]
  },
  {
   "attachments": {},
   "cell_type": "markdown",
   "metadata": {},
   "source": [
    "## For"
   ]
  },
  {
   "cell_type": "code",
   "execution_count": null,
   "metadata": {},
   "outputs": [],
   "source": [
    "cadena = \"0123\"\n",
    "for elem in cadena:\n",
    "    print(elem)\n",
    "for i in range(10):\n",
    "    print(i, end=\"-\") #Cambia \\n por '-' retorna 0-1-2-3-4-5-6-7-8-9-"
   ]
  },
  {
   "attachments": {},
   "cell_type": "markdown",
   "metadata": {},
   "source": [
    "### Funcion range()"
   ]
  },
  {
   "cell_type": "code",
   "execution_count": null,
   "metadata": {},
   "outputs": [],
   "source": [
    "valor_inicial = 1\n",
    "valor_final = 10\n",
    "paso = 1\n",
    "range(valor_inicial,valor_final,paso) # '1,2,3,4,5,6,7,8,9,10'\n",
    "range(valor_final) # '0,1,2,3,4,5,6,7,8,9'"
   ]
  },
  {
   "attachments": {},
   "cell_type": "markdown",
   "metadata": {},
   "source": []
  },
  {
   "attachments": {},
   "cell_type": "markdown",
   "metadata": {},
   "source": [
    "## Estructuras de datos (Colecciones)"
   ]
  },
  {
   "attachments": {},
   "cell_type": "markdown",
   "metadata": {},
   "source": [
    "## Listas"
   ]
  },
  {
   "cell_type": "code",
   "execution_count": null,
   "metadata": {},
   "outputs": [],
   "source": [
    "lista = [] #son mutables\n",
    "varios = [1, \"dos\", [3, \"cuatro\"], True] #Heteregeneas\n",
    "varios[2][1] = [3, \"cuatro\"]\n",
    "lista2 = lista.copy() #Copiar para no hacer referencia a la misma\n",
    "duracion_pelis = [152, 161, 142, 157, 138, 153, 146, 130]\n",
    "promedio = sum(duracion_pelis) / len(duracion_pelis)\n",
    "#List Comprehension (Teoria de Conjuntos)\n",
    "mayor_prom = [n for n in duracion_pelis if n > promedio] # n por cada n en duracion_peli si n es mas grande que promedio\n",
    "enzos = [jugador for jugador in jugadores_por_pais.values() for jugadomayor_prom = [n for n in duracion_pelis if n > promedio]r in jugadores if \"Enzo\" in jugador]\n",
    "#Metodos\n",
    "lista.append(x) #agrega atras\n",
    "lista.sort() #ordena lista\n",
    "sorted(lista, key=str.lower) #ordena, considerando a todos los str como lower\n",
    "list(reversed(lista)) #retorna lista al revez\n",
    "sum(list) #suma de los elementos(numeros) de la lista\n",
    "len(list) #cantidad de elemntos\n",
    "max(duracion_pelis) #retorna el numero maximo de la coleccion\n",
    "min(duracion_pelis) #retorna el minimo de la coleccion"
   ]
  },
  {
   "attachments": {},
   "cell_type": "markdown",
   "metadata": {},
   "source": [
    "## Tuplas"
   ]
  },
  {
   "cell_type": "code",
   "execution_count": null,
   "metadata": {},
   "outputs": [],
   "source": [
    "tupla = ()\n",
    "tuplas_1 = (1,) #sin el , no es una tupla\n",
    "nombre_y_apellido = (\"Fernando\", \"Lopez\")\n",
    "nombre_y_apellido = tuple([\"Fernando\", \"Lopez\"])\n",
    "nombre_y_apellido[1] #'Fernando'"
   ]
  },
  {
   "attachments": {},
   "cell_type": "markdown",
   "metadata": {},
   "source": [
    "## Diccionarios"
   ]
  },
  {
   "cell_type": "code",
   "execution_count": null,
   "metadata": {},
   "outputs": [],
   "source": [
    "dic = {} #diccionario vacio\n",
    "dict([(n, ord(n)) for n in string.digits]) #Constructor recibe iterable\n",
    "dic = {'clave0': 'valor', 'clave1':20} #Claves unicas e inmutables\n",
    "#Metodos\n",
    "dic.keys() #lista con llaves\n",
    "dic.values() #lista con valores\n",
    "dic.items() #lista con claves y valores\n",
    "for clave, valor in dic.items(): #recorrer diccionario con variables\n",
    "    print(f\"{clave} : {valor}\")"
   ]
  },
  {
   "attachments": {},
   "cell_type": "markdown",
   "metadata": {},
   "source": [
    "## Conjuntos\n",
    " - Coleccion heterogenea, desordenada, valores unicos, no idexada\n",
    " - Acceso rapido y eficiente para saber si un elemento esta en el conjunto"
   ]
  },
  {
   "cell_type": "code",
   "execution_count": null,
   "metadata": {},
   "outputs": [],
   "source": [
    "set('alabanza') # {'a', 'b', 'l', 'z', 'n'}\n",
    "bandas_nacionales = set((\"Soda Stéreo\", \"La Renga\", \"Los Piojos\")) #constructor\n",
    "bandas = {\"AC/DC\", \"Metallica\", \"Greta Van Fleet\", \"Soda Stéreo\", \"Los Piojos\"}\n",
    "#Set Comprehension\n",
    "mayor_prom_set = {n for n in duracion_pelis if n > promedio}"
   ]
  },
  {
   "attachments": {},
   "cell_type": "markdown",
   "metadata": {},
   "source": [
    "### Operaciones"
   ]
  },
  {
   "cell_type": "code",
   "execution_count": null,
   "metadata": {},
   "outputs": [],
   "source": [
    "for elem in bandas: #recorrer\n",
    "    print(elem)    \n",
    "print(\"Los Piojos\" in bandas) # retorna si el elemento esta en el conjunto\n",
    "todos = bandas | bandas_nacionales #unión entre dos conjuntos.\n",
    "en_ambos = bandas & bandas_nacionales #intersección entre dos conjuntos.\n",
    "internacionales = bandas - bandas_nacionales # diferencia de conjuntos\n",
    "bandas.add(\"Foo Fighters\") #Agregar\n",
    "bandas.issubset() # boolean es un subconjunto de otro conjunto\n",
    "bandas.isdisjoint() # boolean si son disjuntos\n",
    "bandas.issuperset() # boolean si es un superconjunto de otro conjunto\n",
    "bandas.update() #Agrega elementos de un conjunto\n",
    "bandas.discard(\"Soda Stéreo\")  #Borra elemento si existe\n",
    "bandas.remove(\"Foo Fighters\") #Trata de borrar elemento, si no existe da error"
   ]
  },
  {
   "attachments": {},
   "cell_type": "markdown",
   "metadata": {},
   "source": [
    "## Funciones"
   ]
  },
  {
   "cell_type": "code",
   "execution_count": null,
   "metadata": {},
   "outputs": [],
   "source": [
    "def funcion(parametros):\n",
    "    \"\"\" Aca va el docstring \"\"\"\n",
    "    #sentencias\n",
    "    a = 1\n",
    "    b = 2\n",
    "    return a, b #Retorna una tupla con esas dos variables\n",
    "    #return <expresion>"
   ]
  },
  {
   "attachments": {},
   "cell_type": "markdown",
   "metadata": {},
   "source": [
    "### Parametros\n",
    " - Valores por defecto al final\n",
    " - *args para argumentos indefinidos en cantidad, se consideran una lista\n",
    " - **kwargs para argumentos indefinidos utilizados como diccionarios"
   ]
  },
  {
   "cell_type": "code",
   "execution_count": null,
   "metadata": {},
   "outputs": [],
   "source": [
    "def mi_musica(dicci_musica, tipo_musica=\"internacional\", nombre=\"lisa\"): #los que tienen valores por defecto siempre van al final de la lista de parámetros\n",
    "    return None\n",
    "\n",
    "#Usar los argumentos indefinidos como listas\n",
    "def imprimo(*args): #puede ir cualquier nombre\n",
    "    \"\"\" Esta función imprime los argumentos y sus tipos\"\"\"\n",
    "    for valor in args:\n",
    "        print(f\"{valor} es de tipo {type(valor)}\")\n",
    "secuencia = (1, 2, 3) #En este caso paso 3 valores y no 1 lista.\n",
    "imprimo(*secuencia)\n",
    "\n",
    "#Usar los argumentos indefinidos como diccionarios\n",
    "def imprimo_otros_valores(**kwargs): #puede ir cualquier nombre\n",
    "    \"\"\" ..... \"\"\"\n",
    "    for clave, valor in kwargs.items():\n",
    "        print(f\"{clave} es {valor}\")\n",
    "#Pasar Diccionario como diccionario\n",
    "contacto = {\"nombre\": \"Messi\", \"celu\": 12345}#En este caso paso 2 claves y 2 valores, no 1 diccionario.\n",
    "imprimo_otros_valores(**contacto)\n"
   ]
  },
  {
   "attachments": {},
   "cell_type": "markdown",
   "metadata": {},
   "source": [
    "### Atributos de funciones"
   ]
  },
  {
   "cell_type": "code",
   "execution_count": null,
   "metadata": {},
   "outputs": [],
   "source": [
    "funcion.__doc__ #es el docstring**.\n",
    "funcion.__name__ # es una cadena con el nombre la función.\n",
    "funcion.__defaults__# una tupla con los valores por defecto de los parámetros"
   ]
  },
  {
   "attachments": {},
   "cell_type": "markdown",
   "metadata": {},
   "source": [
    "### Lambda - Funciones anonimas"
   ]
  },
  {
   "attachments": {},
   "cell_type": "markdown",
   "metadata": {},
   "source": [
    "Sintaxis:\n",
    "    \n",
    "    lambda parametros : expresion"
   ]
  },
  {
   "cell_type": "code",
   "execution_count": null,
   "metadata": {},
   "outputs": [],
   "source": [
    "lista_de_acciones = [lambda x: x * 2, lambda x: x * 3]\n",
    "for accion in lista_de_acciones:\n",
    "    print(accion(2))\n",
    "\n",
    "def make_incrementor(n):\n",
    "    return lambda x: x + n\n",
    "f = make_incrementor(2)\n",
    "print(f(42))\n",
    "print(make_incrementor(22)(33))"
   ]
  },
  {
   "attachments": {},
   "cell_type": "markdown",
   "metadata": {},
   "source": [
    "### Funcion map, filter, zip"
   ]
  },
  {
   "cell_type": "code",
   "execution_count": null,
   "metadata": {},
   "outputs": [],
   "source": [
    "list(map(funcion, lista)) #aplica una funcion en cada elemento de la lista, y retorna una estructura de datos tipo map\n",
    "num_por_dos = list(map(lambda x: x * 2,range(10)))#retorna los numeros de 0 a 9 multiplicados por 2\n",
    "\n",
    "#filter\n",
    "list(filter(funcion,lista)) #aplica funcion en cada elemento de la lista, y retorna una estructura con los valores que cumpla la condicion\n",
    "num_div_5 = list(filter(lambda x: x % 5 == 0,range(100)))#retorna los numeros que sean divisivles por 5 de 0 a 99\n",
    "\n",
    "#zip \n",
    "list(zip(lista1,lista2,lista3))#itera al mismo tiempo en varias colecciones retorna una estructura con los valores en los mismos indices unidos\n",
    "#enumerate\n",
    "list(enumerate())#asocia un numero a cada iteracion, retorna tuplas con el numero de iteracion, y el valor\n"
   ]
  },
  {
   "attachments": {},
   "cell_type": "markdown",
   "metadata": {},
   "source": [
    "## Modulos"
   ]
  },
  {
   "attachments": {},
   "cell_type": "markdown",
   "metadata": {},
   "source": [
    "- Al importar un modulo podemos acceder a las funciones y variables del modul (archivo)\n",
    "- Actualiza espacios de nombres\n",
    "- __pycache__ .pyc carga mas rapido en memoria, ya que esta copilado"
   ]
  },
  {
   "cell_type": "code",
   "execution_count": null,
   "metadata": {},
   "outputs": [],
   "source": [
    "import nombreModulo import * # (No recomendable) importa todas las funciones del modulo y no es necesario llamarlas por el nombre de los modulos\n",
    "import nombreModulo as m #iguala el nombre del modulo con m\n",
    "m.recurso #uso de recuro en la variable m(nombreModulo)\n",
    "import carpeta.nom_carpeta.nom_subdirectorio #Para buscar en una direccion especifica se cambian los / por .\n",
    "import importlib\n",
    "importlib.reload(modulo) #Recarga el modulo ya que los modulos se cargan en cada sesion del intermprete\n",
    "\n",
    "dir(modulo) # Retorna lista ordenada con los nombres definidos"
   ]
  },
  {
   "attachments": {},
   "cell_type": "markdown",
   "metadata": {},
   "source": [
    "### Variables locales y globales"
   ]
  },
  {
   "attachments": {},
   "cell_type": "markdown",
   "metadata": {},
   "source": [
    "Hay tres espacio de nombres, que se crean en diferentes momentos y tienen diferente tiempo de vida:\n",
    "- __builtins__: se crea al iniciar el interprete y nunca se elimina\n",
    "- Globales: se crea en la definicion de un modulo y normalmente tambien dura hasta que el interprete finaliza\n",
    "- Locales: se crean al invocar una funcion es llamada y se elimina cuando la funcion retorna"
   ]
  },
  {
   "cell_type": "code",
   "execution_count": null,
   "metadata": {},
   "outputs": [],
   "source": [
    "def espacio_de_nombres():\n",
    "    y = 1\n",
    "    def prueba_2():\n",
    "        nonlocal y #para poder acceder a la variable anterior a la funcion\n",
    "        y = 11\n",
    "        return 1\n",
    "    \n",
    "    global x #para acceder a variable global\n",
    "    x = 3"
   ]
  },
  {
   "attachments": {},
   "cell_type": "markdown",
   "metadata": {},
   "source": [
    "- __init__.py si este archivo esta en la carpeta, python interpreta el directorio como un paquete\n",
    "- from package import ** , solo importa lo que este en __all__"
   ]
  },
  {
   "cell_type": "code",
   "execution_count": null,
   "metadata": {},
   "outputs": [],
   "source": [
    "__all__ = [\"echo\",\"surround\"] \n",
    "#esta variable puede estar en __init__.py, y si importamos todo de un paquete que \n",
    "# contiene mas paquetes, solo va a importar los modulos que esten en esta lista"
   ]
  },
  {
   "attachments": {},
   "cell_type": "markdown",
   "metadata": {},
   "source": [
    "#### __main__\n",
    "Un modulo se denomina __main__ cuando es el modulo de nivel superior que se esta ejecutando en el momento"
   ]
  },
  {
   "cell_type": "code",
   "execution_count": null,
   "metadata": {},
   "outputs": [],
   "source": [
    "if __name__ == \"__main__\":#Si el modulo se ejecuta como main, \n",
    "    # va a ejecutar funcion1 y funcion2\n",
    "    funcion1()\n",
    "    funcion2()\n",
    "    import sys #modulo para hacer operaciones con el sistema\n",
    "    uno(sys.argv[1]) \n",
    "    #argv[0] = String con nombre del archivo; \n",
    "    #argv[1] = String con parametros escritos por consola"
   ]
  },
  {
   "attachments": {},
   "cell_type": "markdown",
   "metadata": {},
   "source": [
    "## Modulos usados"
   ]
  },
  {
   "cell_type": "code",
   "execution_count": null,
   "metadata": {},
   "outputs": [],
   "source": [
    "import collections #Este modulo tiene mas estructuras de datos que las definidas por el lenguaje\n",
    "cant_letras = collections.Counter('asxfgf')\n",
    "print(cant_letras.most_common(1)) #retorna la letra mas comun\n",
    "d = collections.deque('xxcvdf') #pilas y colas"
   ]
  },
  {
   "cell_type": "code",
   "execution_count": null,
   "metadata": {},
   "outputs": [],
   "source": [
    "import sys\n",
    "sys.path #Lista de cadenas donde cada cadena son los directorios donde busca los modulos\n",
    "sys.platform #Retorna sistema operativo\n",
    "sys.exit() #sale del programa actual"
   ]
  },
  {
   "cell_type": "code",
   "execution_count": null,
   "metadata": {},
   "outputs": [],
   "source": [
    "import string\n",
    "minusculas = string.ascii_lowercase # 'abcdef...z'\n",
    "mayusculas = string.ascii_uppercase# 'ABCDEF...Z'\n",
    "digitos = string.digits #'0123456789'"
   ]
  },
  {
   "cell_type": "code",
   "execution_count": null,
   "metadata": {},
   "outputs": [],
   "source": [
    "from functools import reduce\n",
    "#reduce\n",
    "list(reduce(funcion,lista)) #aplica funcion con varias variables y un resultado, retorna la operacion en un iterable\n",
    "list(reduce(lambda a, b: a + b, sumar(10)))"
   ]
  },
  {
   "cell_type": "code",
   "execution_count": null,
   "metadata": {},
   "outputs": [],
   "source": [
    "import requests\n",
    "link = \"https//image.tmdb.org/t/p/.../.jpg\"\n",
    "imagen = requests.get(link)#con get devuelve el recurso, si es una pagina devuelve HTML\n",
    "with open('nombreFoto.jpg','wb') as f:\n",
    "    f.write(link.content)#content estan los bytes de la imagen"
   ]
  },
  {
   "cell_type": "code",
   "execution_count": null,
   "metadata": {},
   "outputs": [],
   "source": [
    "import os\n",
    "os.getcwd() #retorna ruta en forma de string"
   ]
  },
  {
   "attachments": {},
   "cell_type": "markdown",
   "metadata": {},
   "source": [
    "#### PySimpleGUI\n",
    "Acá van algunos objetos disponibles en PySimpleGUI:\n",
    "- Buttons: File Browse, Folder Browse, Color chooser, Date picker, etc.\n",
    "- Checkbox, Radio Button, Listbox\n",
    "- Slider, Progress Bar\n",
    "- Multi-line Text Input, Scroll-able Output\n",
    "- Image, Menu, Frame, Column, Graph, Table"
   ]
  },
  {
   "cell_type": "code",
   "execution_count": null,
   "metadata": {},
   "outputs": [],
   "source": [
    "import PySimpleGUI as sg\n",
    "sg.Popup('MI primera ventanta') #Ventana emergente\n",
    "sg.PopupYesNo()\n",
    "sg.PopupOKCancel()\n",
    "texto = sg.popupGetText('Titulo','Ingresar Texto')\n",
    "sg.Popup('Resultados','Ingresaste el siguiente texto',texto)\n",
    "sg.Window(title='titulo', layout[[]],margins=(400,350)).read()#read devuelve tupla con evento\n",
    "\n",
    "#ejemplo\n",
    "layout = [[sg.Text(\"Hola Mundo!\")], [sg.Button(\"OK\")]]\n",
    "window = sg.Window(\"Manejo de eventos\", layout, margins=(200, 150))\n",
    "\n",
    "while True:\n",
    "    event, values = window.read() #Se queda en la espera hasta que ocurra un evento\n",
    "    if event == \"OK\" or event == sg.WIN_CLOSED:\n",
    "        break\n",
    "window.close()\n",
    "\n",
    "layout = [ [sg.Text('Ingresá primer valor'), sg.InputText()], [sg.Text('Ingresá segundo valor'), sg.InputText()], [sg.Button('Ok'), sg.Button('Cancel')] ] #lista de listas, son los elementos de la interfaz\n",
    "\n",
    "sg.ChangeLookAndFeel(\"Darlamber\")#cambia el esquema de colores"
   ]
  },
  {
   "attachments": {},
   "cell_type": "markdown",
   "metadata": {},
   "source": [
    "## Archivos"
   ]
  },
  {
   "cell_type": "code",
   "execution_count": null,
   "metadata": {},
   "outputs": [],
   "source": [
    "open(nombreArchivo)#crea la asignacion dentro del programa con el archivo y en modo 'r'\n",
    "open(nombre,modo)\n",
    "modo = {'r':'read','w':'write','a':'append','x':'create'} # 'r'(escritura) y 'w'(escritura) pone el puntero al principio mientras que el 'a' al final. 'x' da error si ek archivo existe\n",
    "# puede tener un + o un b ademas de las claves del diccionario. con + agrega permisos de lectura/escritura y con b significa que es binario\n",
    "arch = open('archivo.txt','w') #Crea archivo.txt para escritura en la misma carpeta del script\n",
    "# FileExistError si ya esta creado\n",
    "import locale\n",
    "locale.getLocale()#Saber encoding\n"
   ]
  },
  {
   "cell_type": "code",
   "execution_count": null,
   "metadata": {},
   "outputs": [],
   "source": [
    "import os\n",
    "ruta = os.path.dirname(os.path.realpath(\".\")) #ruta actual del archivo\n",
    "ruta_completa = os.path.join(ruta,\"carp1\",\"carp2\",\"archivo.txt\")#genera una ruta con las carpetas aniadidas"
   ]
  },
  {
   "attachments": {},
   "cell_type": "markdown",
   "metadata": {},
   "source": [
    "### Almacenar datos en un archivo"
   ]
  },
  {
   "cell_type": "code",
   "execution_count": null,
   "metadata": {},
   "outputs": [],
   "source": [
    "f = open(\"archivo.txt\",'w')\n",
    "f.write('En Argentina naci') #Agrega el string al archivo y retorna la cantidad de caracteres que pudo guardar\n",
    "f.read(x)#lee el archivo siendo x la cantidad de veces que se mueve el puntero\n",
    "f.close() #cierra el archivo\n",
    "if f.read() == \"\":\n",
    "    print('Esta en EOF')\n",
    "f.readlines()#retorna lineas\n",
    "for linea in f: #leer lineas\n",
    "    print(linea)"
   ]
  },
  {
   "attachments": {},
   "cell_type": "markdown",
   "metadata": {},
   "source": [
    "### JSON\n",
    "Formato diccionario"
   ]
  },
  {
   "cell_type": "code",
   "execution_count": null,
   "metadata": {},
   "outputs": [],
   "source": [
    "import json\n",
    "diccionario = {\"equipo\": \"Bestia\", \"esport\": \"CSGO\", \"pais\": \"Argentina\"}\n",
    "lista_de_dic = [{\"equipo\": \"Bestia\", \"esport\": \"CSGO\", \"pais\": \"Argentina\"}, {\"equipo\": \"equipo2\", \"esport\": \"CSGO\", \"pais\": \"Argentina\"}]\n",
    "json.dumps(lista_de_dic, indent=4)#Devuelve string\n",
    "json.dump(lista_de_dics,archivo)#de Python a JSOn . guarda lista de dic en formato JSON en archivo\n",
    "json.loads()#de JSON a formato Pythonlist_films para string\n",
    "lista_de_dic = json.load(archivo) #convierte JSON a Python. Y guarda el diccionario o lista en la varible \n",
    "\n",
    "#Examples\n",
    "with open(\"criptomonedas.json\",\"w\") as archivo:\n",
    "    json.dump(datos, archivo)\n",
    "\n",
    "with open(\"criptomonedas.json\",\"w\") as archivo:\n",
    "    datos = json.load(archivo)\n",
    "datos_mostrar = json.dumps(archivo)\n"
   ]
  },
  {
   "attachments": {},
   "cell_type": "markdown",
   "metadata": {},
   "source": [
    "### CSV (Comma Separated Value)\n",
    "- Datasets ordenados como tablas\n",
    "- CSV siempre transforma todo a texto para trabajar con numeros hay que castear"
   ]
  },
  {
   "cell_type": "code",
   "execution_count": null,
   "metadata": {},
   "outputs": [],
   "source": [
    "import csv\n",
    "csvreader = csv.reader(archivo,delimiter = ',') #genera un objeto iterador, y el delimiter es el archivo que separa los datos\n",
    "encabezado = next(csvreader)\n",
    "for linea in csvreader:\n",
    "    if linea[1] == \"Movie\":\n",
    "        print(f\"{linea[2]:<40 {linea[3]}}\")\n",
    "show_ar = filter(lambda x:x[5] == \"argentina\" and x[1] == \"Movie\", csvreader)\n",
    "\n",
    "csvreader = csv.DictReader(archivo, delimiter='-') #genera Diccionario\n",
    "\n",
    "archivo_csv_ = open(\"bandas.csv\",\"w\")\n",
    "writer = csv.writer(archivo_csv)\n",
    "writer.writerow(['Colum1','Colum2']) #Escribe fila\n",
    "\n",
    "#Examples\n",
    "with open('arch.csv','w') as archivo:\n",
    "        writer = csv.writer(archivo)\n",
    "        writer.writerrow([\"Sigla\",\"Cripto\",\"Corizacion\"])#De a una fila, este es el encabezado\n",
    "        for moneda in datos:\n",
    "            writer.writerow(moneda['nombre'],moneda['Cripto'],moneda['Corizacion'])\n",
    "                            \n",
    "with open('arch.csv','r') as archivo:\n",
    "        csv_reader = csv.reader(archivo)\n",
    "        encabezado, datos = next(csv_reader), list(csv_reader) #guardamos la primer fila como encabezado y los datos como una lista\n",
    "\n",
    "pelis = filter(lambda x: float(x[5])>9,datos) #Es necesario el casteo ya que el csv tiene strings\n",
    "\n"
   ]
  },
  {
   "attachments": {},
   "cell_type": "markdown",
   "metadata": {},
   "source": [
    "#### with\n",
    "Cierra automaticamente el archivo"
   ]
  },
  {
   "cell_type": "code",
   "execution_count": null,
   "metadata": {},
   "outputs": [],
   "source": [
    "with open(\"bandas.csv\") as archcsv:\n",
    "    csv_reader = csv.reader(archcv, delimiter=',')"
   ]
  },
  {
   "attachments": {},
   "cell_type": "markdown",
   "metadata": {},
   "source": [
    "## Excepciones"
   ]
  },
  {
   "attachments": {},
   "cell_type": "markdown",
   "metadata": {},
   "source": [
    "- Nunca debera mostrar el error el programa\n",
    "- Es un acontencimiento, que ocurre durante la ejecucion del programa , y rompe el flujo del programa\n",
    "- Sirve para que el programa no se rompa\n",
    "- El programa continua hasta el final\n",
    "- Si encuentra la exception mata el bloque que esta dentro del try"
   ]
  },
  {
   "cell_type": "code",
   "execution_count": null,
   "metadata": {},
   "outputs": [],
   "source": [
    "try:\n",
    "    sentencias\n",
    "except excepcion1, expecion2:\n",
    "    sentencias\n",
    "except expecion3 as variable:\n",
    "    sentencias\n",
    "else:#Se ejecuta solo si no se produjo/levanto una expecion\n",
    "    sentencias\n",
    "finally:#Se ejeucta siempre, por mas que no halla una exepcion\n",
    "    sentencias"
   ]
  },
  {
   "cell_type": "code",
   "execution_count": null,
   "metadata": {},
   "outputs": [],
   "source": [
    "try:\n",
    "    print(xx)\n",
    "except NameError:\n",
    "    print('Usaste una variable que no esta definida')"
   ]
  },
  {
   "cell_type": "code",
   "execution_count": null,
   "metadata": {},
   "outputs": [],
   "source": [
    "mi_musica = {70: [\"Stairway to heaven\", \"Bohemian Rhapsody\"], 80: [\"Dancing in the dark\", \"Welcome to the jungle\", \"Under␣\n",
    "↪pressure\"],2000:[\"Given up\", \"The pretender\"]}\n",
    "tema = input(\"Ingresá un nuevo tema (FIN para terminar): \")\n",
    "while tema !=\"FIN\":\n",
    "    try:\n",
    "        decada = int(input(\"ingresá a qué década pertenece: \"))\n",
    "        mi_musica[decada].append(tema)\n",
    "    except (ValueError, KeyError):\n",
    "        print(\"Hubo un error en el ingreso de datos. Intentá de nuevo\")\n",
    "    except:\n",
    "        print(\"Ups! Algo ocurrió\")\n",
    "    tema = input(\"Ingresá un nuevo tema (FIN para terminar): \")\n",
    "print(\"Terminé de procesar mi música favorita\")"
   ]
  },
  {
   "attachments": {},
   "cell_type": "markdown",
   "metadata": {},
   "source": [
    "### Metodo de propagacion"
   ]
  },
  {
   "attachments": {},
   "cell_type": "markdown",
   "metadata": {},
   "source": [
    "1. Busca estaticamente\n",
    "2. Busca dinamicamente\n",
    "3. Retorna la exepcion si existe, en el caso que no retorna error\n",
    "\n",
    "- Al encontrar la excepcion salta al except directamente y finaliza el bloque que esta dentro del try\n",
    "- Python busca la exepcion y si no la encuntra l busca en el bloque anterior\n",
    "  "
   ]
  },
  {
   "cell_type": "code",
   "execution_count": null,
   "metadata": {},
   "outputs": [],
   "source": [
    "bandas_rock = {0:\"Led Zeppelin\", 2:\"Deep Purple\", 3:\"Black Sabbath\"}\n",
    "try:\n",
    "    for x in range(0,6):\n",
    "        try:\n",
    "            print(bandas_rock[z])\n",
    "            # OJO que estamos usando la variable z\n",
    "        except KeyError:\n",
    "            print(\"Ups! Parece que hubo un problema..\")\n",
    "except NameError:\n",
    "    print('OJO! Se está usando una variable que no existe')\n",
    "print('Sigo con mi programa....')"
   ]
  },
  {
   "attachments": {},
   "cell_type": "markdown",
   "metadata": {},
   "source": [
    "#### Raise\n",
    "Levanta la ultima exepcion generada"
   ]
  },
  {
   "cell_type": "code",
   "execution_count": null,
   "metadata": {},
   "outputs": [],
   "source": [
    "raise KeyError #De esta manera se puede levantar una exepcion de manera directa\n",
    "raise #Levanta la ultima expecion                    \n",
    "try \n",
    "    ...\n",
    "except KeyErorr as exc\n",
    "    dato_error = exc\n",
    "    import sys\n",
    "    print(sys.exc_info())\n",
    "print(dato_error) #En dato error esta guardado el valor con el cual se levanto la exepcion \n"
   ]
  },
  {
   "attachments": {},
   "cell_type": "markdown",
   "metadata": {},
   "source": [
    "## POO"
   ]
  },
  {
   "attachments": {},
   "cell_type": "markdown",
   "metadata": {},
   "source": [
    "### Definiciones\n",
    "- Obejeto: entidad que encapsula propiedades y funciones\n",
    "- Metodos = comportamiento del objeto\n",
    "- Propiedades =  estado interno\n",
    "- Clases: estructura de un objeto, tanto metodos como propiedades.\n",
    "- Instancias de una clase: interfaz publica es lo que se puede acceder dentro del objeto por fuera de la clase"
   ]
  },
  {
   "attachments": {},
   "cell_type": "markdown",
   "metadata": {},
   "source": [
    "### Variables privadas"
   ]
  },
  {
   "attachments": {},
   "cell_type": "markdown",
   "metadata": {},
   "source": [
    "En python no hay variables privadas, por ende hay una convencion.\n",
    "- Por convencion las variables o metodos privadas se anteponen un '_'\n",
    "- Para que genere un error al querer acceder se pone '__', pero se puede acceder de igualmanera mediante la clase\n",
    "- En python cuando un identificador comienza con '__' es remplazado por _NombreClase__\n"
   ]
  },
  {
   "cell_type": "code",
   "execution_count": null,
   "metadata": {},
   "outputs": [],
   "source": [
    "class Usuario():#CamelCase para clases segun PEP8\n",
    "    \"\"\"Define la entidad que representa a un usuario en UNLPImage\"\"\"\n",
    "    #Todas las instancias de clases apuntan a las mismas \"variables de clases\"\n",
    "    #Crea un nuevo espacio de nombres: tabla con nombres de variables\n",
    "    profesores = [] #variable de clase\n",
    "    #Se puede acceder a la variable con el nombre de la clase o se puede acceder mediante un metodo\n",
    "    \n",
    "    #Inicializador, no constructor - Lugar donde se definen las variables de instancia\n",
    "    def __init__(self,nom=\"Tony Stark\",alias=\"Ironman\"):#Para poder hacer sobrecarga de \"Inicializadores\", hay que poner valores por defecto\n",
    "        self.nombre = nom #variable de instancia publica\n",
    "        self.nick = alias #variables de instancia publica\n",
    "        self._avatar = None #vairable de instancia Privada\n",
    "        self.__pass = None #variable de instancia mas privada\n",
    "    #Metodos\n",
    "    def cambiar_nombre(self,nombre):#El primer argumento siempre se llamara self, ya que la variable que este en ese lugar tendra esa funcion\n",
    "        self.nombre = nombre\n",
    "    #Getter y Setters\n",
    "    def get_profesores(self):\n",
    "        return self.profesores\n",
    "    #al momento de invocar a cambiar_nombre solamente sera con un parametro\n",
    "#Instanciar una clase\n",
    "objeto = NombreClase()"
   ]
  },
  {
   "attachments": {},
   "cell_type": "markdown",
   "metadata": {},
   "source": [
    "#### Agregar de forma dinamica variables de instancia o metodos"
   ]
  },
  {
   "cell_type": "code",
   "execution_count": null,
   "metadata": {},
   "outputs": [],
   "source": [
    "class SuperHeroe:\n",
    "    pass\n",
    "tony = SuperHeroe()\n",
    "tony.nombre = \"Tony Stark\"\n",
    "tony.sot_Ironman = lambda : True if tony.alias == \"Ironman\" else False\n",
    "#Borrar dinamicamente con palabra reservada del\n",
    "del tony.nombre"
   ]
  },
  {
   "attachments": {},
   "cell_type": "markdown",
   "metadata": {},
   "source": [
    "#### Decoradores\n",
    "Un decorador es una funcion que recibe una funcion como parametro\n"
   ]
  },
  {
   "cell_type": "code",
   "execution_count": null,
   "metadata": {},
   "outputs": [],
   "source": [
    "def decorador(funcion):\n",
    "    def funcion_interna():\n",
    "        funcion()\n",
    "    return funcion_interna()\n",
    "\n",
    "def otra_funcion():\n",
    "    pass\n",
    "\n",
    "variable = decorador(otra_funcion)\n",
    "#Es lo mismo que escribirlo de esta manera\n",
    "@decorador\n",
    "def variable():\n",
    "    pass"
   ]
  },
  {
   "attachments": {},
   "cell_type": "markdown",
   "metadata": {},
   "source": [
    "### Property\n",
    "Sirve para hacer propiedades de objetos, y de esta manera hacerlos privados."
   ]
  },
  {
   "attachments": {},
   "cell_type": "markdown",
   "metadata": {},
   "source": [
    "Los decoradores se utiliza la mayoria de las veces al utilizar POO, con el decorador @property"
   ]
  },
  {
   "cell_type": "code",
   "execution_count": null,
   "metadata": {},
   "outputs": [],
   "source": [
    "class ClaseBase(): #CamelCase\n",
    "    #estado interno\n",
    "    def __init__(self, var1, var2): # Metodo init para definir variables de instancia\n",
    "        self._var1 = var1 #variable privada\n",
    "        self.__var2 = var2 #variable super privada\n",
    "    def cambiar_nombre(self,var1): #comportamientos es necesario el self siempre\n",
    "        self._var1 = var1\n",
    "    \n",
    "    #Getters y setters\n",
    "    def get_var1(self): #retornar la variable\n",
    "        return _var1\n",
    "    \n",
    "    def set_var1(self,var1): #modificar la variable\n",
    "        self._var1=var1\n",
    "    def del_var1(self,var1):\n",
    "        del self._var1\n",
    "    #Property\n",
    "    #Permiten trabajr con las variables de instacia no publicas, llamando a las funciones que esten por parametro\n",
    "    var1 = property(get_var1,set_var1,del_var1,'Este es el doctring')\n",
    "    #Forma general\n",
    "    property(fget=None, fset=None, fdel=None, doc=None)\n",
    "\n",
    "    #decorador\n",
    "    @property\n",
    "    def x(self):\n",
    "        return self\n",
    "    \n",
    "    @x.setter\n",
    "    def x(self, value):\n",
    "        self.x = value"
   ]
  },
  {
   "attachments": {},
   "cell_type": "markdown",
   "metadata": {},
   "source": [
    "### Herencia\n",
    "\n",
    "Una clase derivada puede heredar metodos, propiedades, y variables de una clase base\n",
    "- Python es de herencia multiple"
   ]
  },
  {
   "cell_type": "code",
   "execution_count": null,
   "metadata": {},
   "outputs": [],
   "source": [
    "class ClaseDerivada(ClaseBase):\n",
    "    def __init__(self,nombre,banda=None):\n",
    "        ClaseBase.__init__(self,nombre,\"guitarra\",banda)#Es necesario llamar al __init__ del padre para que herede\n",
    "        self.instrumento = \"guitarra acustica\"\n",
    "    def info(self): #Si este metodo tambien existe en la ClaseBase, se quedara con el metodo de la claseDerivada\n",
    "        print('Inforamcion')"
   ]
  },
  {
   "attachments": {},
   "cell_type": "markdown",
   "metadata": {},
   "source": [
    "Para saber si es una instanncia o sub clase"
   ]
  },
  {
   "cell_type": "code",
   "execution_count": null,
   "metadata": {},
   "outputs": [],
   "source": [
    "isinstance(ClaseBase,ClaseDerivada) #Es instancias\n",
    "issubclass(ClaseDerivada,ClaseBase) #Es subclase"
   ]
  },
  {
   "attachments": {},
   "cell_type": "markdown",
   "metadata": {},
   "source": [
    "### Herencia multiple"
   ]
  },
  {
   "cell_type": "code",
   "execution_count": null,
   "metadata": {},
   "outputs": [],
   "source": [
    "class ClaseDerivadaMultiple(ClaseBase,ClaseBase2): #La ClaseBase tiene mas prioridad MRO\n",
    "    def __init__(self,var1,var2):\n",
    "        ClaseBase.__init__()\n",
    "        CLaseBase2.__init__()"
   ]
  },
  {
   "attachments": {},
   "cell_type": "markdown",
   "metadata": {},
   "source": [
    "#### Method Resolution Order (MRO)\n",
    "El MRO es la jerarquia de clases por el cual Python busca la definicion de algun metodo o variable, dentro de las derivaciones de clases\n",
    "- Metodo de orden de resolucion"
   ]
  },
  {
   "cell_type": "code",
   "execution_count": null,
   "metadata": {},
   "outputs": [],
   "source": [
    "#MRO\n",
    "ClaseDerivadaMultiple.__mro__ #retorna una lista con la prioridad al momento de buscar metodos o variables de clase "
   ]
  },
  {
   "attachments": {},
   "cell_type": "markdown",
   "metadata": {},
   "source": [
    "### Polimorfismo\n"
   ]
  },
  {
   "attachments": {},
   "cell_type": "markdown",
   "metadata": {},
   "source": [
    "Capacidad de los objetos de distintas clases de responder a mensajes con el mismo nombre"
   ]
  },
  {
   "cell_type": "code",
   "execution_count": null,
   "metadata": {},
   "outputs": [],
   "source": [
    "class polimorfismo:\n",
    "    nom = \"\"\n",
    "    def __init__(self):\n",
    "        pass\n",
    "    def __add__(self, otro): #Sirve para sumar objetos de igual clase\n",
    "        return(f\"la suma es{self.nom}, + {otro.nom}\")\n",
    "    def __str__(self): #toString\n",
    "        return (f\"{self.nom} es el nombre\")"
   ]
  },
  {
   "attachments": {},
   "cell_type": "markdown",
   "metadata": {},
   "source": [
    "## Pandas\n"
   ]
  },
  {
   "attachments": {},
   "cell_type": "markdown",
   "metadata": {},
   "source": [
    "### Ciencia de datos:\n",
    "Es el analisis de datos aplicando tecnicas de programacion"
   ]
  },
  {
   "attachments": {},
   "cell_type": "markdown",
   "metadata": {},
   "source": [
    "__pandas__ es una de las librerias mas usadas para analisis de datos, y habitualmente se utiliza __matplotlib__ para graficar resultados"
   ]
  },
  {
   "cell_type": "code",
   "execution_count": null,
   "metadata": {},
   "outputs": [],
   "source": [
    "import pandas as pd\n",
    "archivo_pokemon = \"pokemon.csv\"\n",
    "data_set = pd.read_csv(archivo_pokemon, encofing='utf-8')#retorna un DataFrama"
   ]
  },
  {
   "attachments": {},
   "cell_type": "markdown",
   "metadata": {},
   "source": [
    "### DataFrame\n",
    "Estructura de dato bidimensial de tamanio mutable potencialmente heterogenea\n",
    "Contiene (tabla):\n",
    "-  datos: organizados en filas y columnas\n",
    "-  labels: asociados a las filas y a las columnas\n",
    "\n",
    "Pandas castea automaticamente los tipos segun las columnas"
   ]
  },
  {
   "cell_type": "code",
   "execution_count": null,
   "metadata": {},
   "outputs": [],
   "source": [
    "data_set.colums #retorna las columnas\n",
    "data_set.index #retorna un RangeIndex\n",
    "len(data_set) #Retorna cuantas filas\n",
    "data_set.shape #Retorna tuplas con (filas,columnas)\n",
    "data_set.info() #Retorna un resumen \n",
    "data_set('NombreColumna') #Retorna columna\n",
    "data_set('NombreColumna').unique() #Retorna columna sin repetidos\n",
    "data_set('NombreColumna').value_counts() #Retorna cuantos hay repetidos\n"
   ]
  },
  {
   "cell_type": "code",
   "execution_count": null,
   "metadata": {},
   "outputs": [],
   "source": [
    "#Otra manera de crear un DataFrame\n",
    "datos = { 'tenista': ['Novak Djokovic', 'Rafael Nadal', 'Roger Federer', 'Ivan Lendl', 'Pete Sampras', 'John McEnroe', 'Bjorn Borg'],\n",
    "'pais': ['Serbia', 'España', 'Suiza', 'República Checa','Estados Unidos', 'Estados Unidos', 'Suecia'],\n",
    "'gran_slam': [22, 22, 20, 8, 14, 7, 11],\n",
    "'master_1000': [38, 36, 28, 22, 11, 19, 15],\n",
    "'otros': [6, 1, 6, 5, 5, 3, 2]\n",
    "}\n",
    "labels_filas = [\"H01\", \"H02\", \"H03\", \"H04\", \"H05\", \"H06\", \"H07\"]\n",
    "df = pd.DataFrame(data=datos, index=labels_filas) #Creacion de DataFrame (datos.keys() sera el encabezado y labels_filas como el indice)\n",
    "\n",
    "fila1 = df.iloc[0] #retorna fila segun el orden posicional entero, en este caso es 0 \n",
    "sliceing = df.loc[\"H03:H06\",\"tenista:pais\"] #Retorna una parte del DataFrame\n",
    "df.at[\"H03\",\"tenista\"] #Retorna una celda exacta\n",
    "df[df[\"gran_slam\"] >= 20] #Retorna un dataframe con la la condicion\n",
    "# PANDAS UTILIZA OPERADORES BOOLEANOS A LO JAVA\n",
    "pokes_fuego = data_set[(data_set[\"Type 1\"] == \"Fire\" ) | (data_set[\"Type 2\"] == \"Fire\")]\n",
    "\n",
    "pokes_fuego = data_set.sort_values(by='Atack',ascendign=False).head(10)#Guarda los 10 primeros, ordenados por ataque\n",
    "pokes_fuego = data_set.sort_values(by='Atack',ascendign=False).tail(10) #Muestra los ultimos 10, ordenados por ataque"
   ]
  },
  {
   "attachments": {},
   "cell_type": "markdown",
   "metadata": {},
   "source": [
    "#### Guardar DataFrame en archivo"
   ]
  },
  {
   "cell_type": "code",
   "execution_count": null,
   "metadata": {},
   "outputs": [],
   "source": [
    "# En formato csv\n",
    "pokes_fuego.to_csv(\"Pokemones_fuego.csv\")\n",
    "# En formato json\n",
    "pokes_fuego.to_json(\"Pokemones_fuego.json\", indent=4)"
   ]
  },
  {
   "attachments": {},
   "cell_type": "markdown",
   "metadata": {},
   "source": [
    "### Series"
   ]
  },
  {
   "attachments": {},
   "cell_type": "markdown",
   "metadata": {},
   "source": [
    "Es una estructura de datos que poseen un indice que se define implicitamente. Este indice implicito indica la posicion de elemento en la serie.\n",
    "- Es una columna o una fila"
   ]
  },
  {
   "cell_type": "code",
   "execution_count": null,
   "metadata": {},
   "outputs": [],
   "source": [
    "columna = data_set('NombreColumna')\n",
    "columna[0] #retorna el primer elemento\n",
    "top_3 = pd.Series( [27.27, 16.35, 9.52], index=[\"Python\", \"Java\", \"JavaScript\" ])\n",
    "top_3['Pyton'] #27.27"
   ]
  },
  {
   "attachments": {},
   "cell_type": "markdown",
   "metadata": {},
   "source": [
    "### Acceder a HTML con Pandas\n",
    "Se necesita un parser HTML. Ejemplos: *lxml* , *BeatifulSoup*"
   ]
  },
  {
   "cell_type": "code",
   "execution_count": 4,
   "metadata": {},
   "outputs": [],
   "source": [
    "import pandas as pd\n",
    "url = \"https://es.wikipedia.org/wiki/Copa_Am%C3%A9rica\"\n",
    "result = pd.read_html(url) #Lista de DataFrames\n",
    "# Es necesario tener un parser como lxml"
   ]
  },
  {
   "attachments": {},
   "cell_type": "markdown",
   "metadata": {},
   "source": [
    "## Depurar tablas\n",
    "Cuando hay NaN son valores nulos, que probablemente no nos sirve"
   ]
  },
  {
   "cell_type": "code",
   "execution_count": 32,
   "metadata": {},
   "outputs": [
    {
     "name": "stdout",
     "output_type": "stream",
     "text": [
      "<class 'pandas.core.frame.DataFrame'>\n",
      "RangeIndex: 51 entries, 0 to 50\n",
      "Data columns (total 14 columns):\n",
      " #   Column  Non-Null Count  Dtype  \n",
      "---  ------  --------------  -----  \n",
      " 0   0       51 non-null     object \n",
      " 1   1       51 non-null     object \n",
      " 2   2       51 non-null     object \n",
      " 3   3       51 non-null     object \n",
      " 4   4       3 non-null      object \n",
      " 5   5       51 non-null     object \n",
      " 6   6       51 non-null     object \n",
      " 7   7       51 non-null     object \n",
      " 8   8       3 non-null      object \n",
      " 9   9       51 non-null     object \n",
      " 10  10      51 non-null     object \n",
      " 11  11      51 non-null     object \n",
      " 12  12      0 non-null      float64\n",
      " 13  13      0 non-null      float64\n",
      "dtypes: float64(2), object(12)\n",
      "memory usage: 5.7+ KB\n"
     ]
    }
   ],
   "source": [
    "ediciones = result[1] #Este DataFrame tiene datos mal guardados\n",
    "ediciones.info() #Srive para ver la cantiadad de elementos no nulos que tiene cada columna"
   ]
  },
  {
   "attachments": {},
   "cell_type": "markdown",
   "metadata": {},
   "source": [
    "### SettingWithCopyWarning\n",
    "Algunas acciones en pandas retornan una vista de los datos y otros una copia.\n",
    "\n",
    "Este Waring ocurre cuando se relaiza una operacion en el dataFrame original y no en una copia.\n",
    "Ver video de Marc Garcia https://www.youtube.com/watch?v=F37fV0uFf60\n"
   ]
  },
  {
   "cell_type": "code",
   "execution_count": null,
   "metadata": {},
   "outputs": [],
   "source": [
    "#Lo recomendable es hacer\n",
    "ediciones = ediciones.copy()"
   ]
  },
  {
   "attachments": {},
   "cell_type": "markdown",
   "metadata": {},
   "source": [
    " #### Metodo drop\n",
    " Este metodo retorna el dataset con filas o columnas borradas pasadas por parametros"
   ]
  },
  {
   "cell_type": "code",
   "execution_count": 33,
   "metadata": {},
   "outputs": [],
   "source": [
    "ediciones = ediciones.drop([4,8,12,13], axis='columns')#Borramos todas las columnas que esten en la lista"
   ]
  },
  {
   "cell_type": "code",
   "execution_count": 34,
   "metadata": {},
   "outputs": [],
   "source": [
    "ediciones.columns #Con este metodo podemos ver los nombres reales de las columnas\n",
    "ediciones.columns = ediciones.iloc[0] #Guardamos la primera fila como key de columna\n",
    "ediciones = ediciones[2:] #Borramos las primeras dos filas"
   ]
  },
  {
   "cell_type": "code",
   "execution_count": 35,
   "metadata": {},
   "outputs": [],
   "source": [
    "#La columna Año tiene caracteres de mas\n",
    "ediciones = ediciones.copy() #Es necesario para que no salga el error de SettingWithCopyWarning\n",
    "ediciones[\"Año\"].head() #Vemos los primeras 5 filas\n",
    "ediciones[\"Año\"] = ediciones[\"Año\"].str[0:4]  #Guardamos solo los primeros 4 caracteres\n"
   ]
  },
  {
   "cell_type": "code",
   "execution_count": 36,
   "metadata": {},
   "outputs": [],
   "source": [
    "ediciones[\"Equipos\"].unique() #De esta manera podremos ver todos los elementos unicos de la columna equipo\n",
    "ediciones = ediciones.drop([31, 50], axis=\"rows\") #Las filas 31 y 50 no nos sirven"
   ]
  },
  {
   "cell_type": "code",
   "execution_count": 37,
   "metadata": {},
   "outputs": [],
   "source": [
    "ediciones[\"Campeón\"].unique() #Hay caracteres de mas y ademas hay paises repetidos\n",
    "ediciones[\"Campeón\"].str[:-4] #Hay caracteres de mas\n",
    "ediciones[\"Campeón\"] = ediciones[\"Campeón\"].str[:-4]   #Los sacamos"
   ]
  },
  {
   "cell_type": "code",
   "execution_count": 38,
   "metadata": {},
   "outputs": [],
   "source": [
    "#Remplazamos paises repetidos\n",
    "paises = {'Argentina ': 'Argentina',\n",
    "          'Uruguay ': 'Uruguay',}\n",
    "\n",
    "ediciones = ediciones.copy() #Es necesario para que no salga el error de SettingWithCopyWarning\n",
    "ediciones['Campeón'] = ediciones['Campeón'].replace(paises) #Reemplaza clave por valor"
   ]
  },
  {
   "cell_type": "code",
   "execution_count": 56,
   "metadata": {},
   "outputs": [],
   "source": [
    "ediciones.groupby('Sede')['Campeón'].unique() #De esta manera vemos como hay sedes mal escritas\n",
    "sedes = {'Brasil[n 16]​': 'Brasil', 'Perú[n 13]​': 'Perú', 'Uruguay[n 7]​': 'Uruguay' }\n",
    "ediciones = ediciones.copy()\n",
    "ediciones['Sede'] = ediciones['Sede'].replace(sedes)"
   ]
  },
  {
   "attachments": {},
   "cell_type": "markdown",
   "metadata": {},
   "source": [
    "## Analizar datos\n",
    "Si queremos ver cuándo el país que es sede salió campeón, podría comenzar ordenando los datos y visualizarlos.  Ordenamos por **dos criterios**: Sede y Campeón"
   ]
  },
  {
   "cell_type": "code",
   "execution_count": null,
   "metadata": {},
   "outputs": [],
   "source": [
    "ediciones.sort_values(by=['Sede', 'Campeón'])[['Año', 'Sede', 'Campeón']] #Ademas solamente nos esta imprimiendo las columnas anio sede y campeon"
   ]
  },
  {
   "cell_type": "code",
   "execution_count": null,
   "metadata": {},
   "outputs": [],
   "source": [
    "#Queremos saber cuantas copas tiene Argentina\n",
    "#Debido a que en el dataframe, hay dos Argentinas\n",
    "nuestras_copas = ediciones[(ediciones[\"Campeón\"] == \"Argentina\")]\n",
    "nuestras_copas[[\"Año\"]]"
   ]
  },
  {
   "attachments": {},
   "cell_type": "markdown",
   "metadata": {},
   "source": [
    "### groupby\n",
    "Este metodo sirve para crear agrupamientos y aplicarle funciones, como por ejemplo:\n",
    "- size() \n",
    "- sum() \n",
    "- mean() \n",
    "- max() \n",
    "- min()"
   ]
  },
  {
   "cell_type": "code",
   "execution_count": null,
   "metadata": {},
   "outputs": [],
   "source": [
    "ediciones.groupby(\"Campeón\").size() # De esta manera, agrupa los elementos de la columna campeon y nos retorna cuantas veces aparece"
   ]
  },
  {
   "cell_type": "code",
   "execution_count": null,
   "metadata": {},
   "outputs": [],
   "source": [
    "ediciones.groupby(\"Campeón\").size().sort_values(ascending=False).head(5) # Ademas de que nos retorna la cantidad de veces que aparece, tambien ordena los valores de manera descendente y solo muestra los primeros 5"
   ]
  },
  {
   "cell_type": "code",
   "execution_count": null,
   "metadata": {},
   "outputs": [],
   "source": [
    "campeones_organizadores = ediciones[ediciones[\"Sede\"] == ediciones[\"Campeón\"]]\n",
    "campeones_organizadores[[\"Año\", \"Sede\", \"Campeón\"]]"
   ]
  },
  {
   "cell_type": "code",
   "execution_count": null,
   "metadata": {},
   "outputs": [],
   "source": [
    "ediciones.groupby('Sede')['Campeón'].unique() #De esta manera vemos como agrupa por 'Sede' y en otra columna muestra los campeones unicos en cada una de esas sedes"
   ]
  },
  {
   "cell_type": "code",
   "execution_count": null,
   "metadata": {},
   "outputs": [],
   "source": [
    "ediciones.groupby(['Sede', 'Campeón'])['Sede'].count() #Retorna la cantidad de veces que un campeon fue sede"
   ]
  },
  {
   "attachments": {},
   "cell_type": "markdown",
   "metadata": {},
   "source": [
    "### Ahora trabajaremos con la tabla de goleadores\n",
    "La tabla esta en la lista de la request, en la posicion 12"
   ]
  },
  {
   "cell_type": "code",
   "execution_count": 61,
   "metadata": {},
   "outputs": [],
   "source": [
    "goleadores_x_edicion = result[12]"
   ]
  },
  {
   "cell_type": "code",
   "execution_count": null,
   "metadata": {},
   "outputs": [],
   "source": [
    "goleadores_x_edicion.tail()"
   ]
  },
  {
   "attachments": {},
   "cell_type": "markdown",
   "metadata": {},
   "source": [
    "### merge\n",
    "Srive para unir dos dataframes\n"
   ]
  },
  {
   "cell_type": "code",
   "execution_count": 63,
   "metadata": {},
   "outputs": [],
   "source": [
    "ediciones_recortada = ediciones[[\"Año\", \"Campeón\"]] # Nos quedamos con las columnas que queremos unir\n",
    "ediciones_recortada.columns = [\"Edición\", \"Campeón\"] # Editamos el nombre para que sea igual"
   ]
  },
  {
   "cell_type": "code",
   "execution_count": null,
   "metadata": {},
   "outputs": [],
   "source": [
    "goleadores_completa = pd.merge(goleadores_x_edicion, ediciones_recortada, on='Edición') #Unimos los dos dataframes mediante la columna edicion\n",
    "goleadores_completa"
   ]
  },
  {
   "attachments": {},
   "cell_type": "markdown",
   "metadata": {},
   "source": [
    "### apply\n",
    "- Es un map. Aplica una funcion a una fila o una columna\n",
    "- Los objetos pasados a la función son objetos de la fila (axis=0 o index) o columna (axis=1 o columna dependiendo del eje con el que estemos trabajando."
   ]
  },
  {
   "cell_type": "code",
   "execution_count": null,
   "metadata": {},
   "outputs": [],
   "source": [
    "goleadores_completa[goleadores_completa.apply(lambda x: x[\"Campeón\"] in x[\"Selección\"], axis=\"columns\")].tail() # Retornamos los goleadores que fueron campeones"
   ]
  },
  {
   "cell_type": "code",
   "execution_count": null,
   "metadata": {},
   "outputs": [],
   "source": [
    "tabla_h = result[4]\n",
    "tabla_h.sum() #suma todas las columnas\n",
    "tabla_h[\"Dif_en_num\"] = tabla_h[\"Dif.\"].apply(lambda x: int(x[1:]) if x[0]==\"+\" else (-1)*int(x[1:])) #Agrego una columna "
   ]
  },
  {
   "attachments": {},
   "cell_type": "markdown",
   "metadata": {},
   "source": [
    "### Analisis tabla historica"
   ]
  },
  {
   "cell_type": "code",
   "execution_count": 11,
   "metadata": {},
   "outputs": [
    {
     "name": "stdout",
     "output_type": "stream",
     "text": [
      "<class 'pandas.core.frame.DataFrame'>\n",
      "RangeIndex: 19 entries, 0 to 18\n",
      "Data columns (total 12 columns):\n",
      " #   Column   Non-Null Count  Dtype \n",
      "---  ------   --------------  ----- \n",
      " 0   #        19 non-null     int64 \n",
      " 1   Equipo   19 non-null     object\n",
      " 2   Títulos  19 non-null     int64 \n",
      " 3   Part.    19 non-null     int64 \n",
      " 4   Puntos   19 non-null     int64 \n",
      " 5   PJ       19 non-null     int64 \n",
      " 6   PG       19 non-null     int64 \n",
      " 7   PE       19 non-null     int64 \n",
      " 8   PP       19 non-null     int64 \n",
      " 9   GF       19 non-null     int64 \n",
      " 10  GC       19 non-null     int64 \n",
      " 11  Dif.     19 non-null     object\n",
      "dtypes: int64(10), object(2)\n",
      "memory usage: 1.9+ KB\n"
     ]
    }
   ],
   "source": [
    "tabla_h = result[4]\n",
    "tabla_h.info()\n",
    "#La columna Dif, tendria que ser de tipo integer, pero es un string"
   ]
  },
  {
   "cell_type": "code",
   "execution_count": 71,
   "metadata": {},
   "outputs": [],
   "source": [
    "# Creamos otra columna aplicando una funcion que retorne el valor de tipo integer\n",
    "tabla_h[\"Dif_en_num\"] = tabla_h[\"Dif.\"].apply(lambda x: int(x[1:]) if x[0]==\"+\" else (-1)*int(x[1:]))"
   ]
  },
  {
   "cell_type": "code",
   "execution_count": null,
   "metadata": {},
   "outputs": [],
   "source": [
    "tabla_h.sort_values('Dif_en_num', ascending=False)"
   ]
  },
  {
   "attachments": {},
   "cell_type": "markdown",
   "metadata": {},
   "source": [
    "### dropna\n",
    "Elimina las filas que contienen valores de tipo NaN"
   ]
  },
  {
   "cell_type": "code",
   "execution_count": 6,
   "metadata": {},
   "outputs": [
    {
     "data": {
      "text/html": [
       "<div>\n",
       "<style scoped>\n",
       "    .dataframe tbody tr th:only-of-type {\n",
       "        vertical-align: middle;\n",
       "    }\n",
       "\n",
       "    .dataframe tbody tr th {\n",
       "        vertical-align: top;\n",
       "    }\n",
       "\n",
       "    .dataframe thead th {\n",
       "        text-align: right;\n",
       "    }\n",
       "</style>\n",
       "<table border=\"1\" class=\"dataframe\">\n",
       "  <thead>\n",
       "    <tr style=\"text-align: right;\">\n",
       "      <th></th>\n",
       "      <th>#</th>\n",
       "      <th>Equipo</th>\n",
       "      <th>Títulos</th>\n",
       "      <th>Part.</th>\n",
       "      <th>Puntos</th>\n",
       "      <th>PJ</th>\n",
       "      <th>PG</th>\n",
       "      <th>PE</th>\n",
       "      <th>PP</th>\n",
       "      <th>GF</th>\n",
       "      <th>GC</th>\n",
       "      <th>Dif.</th>\n",
       "    </tr>\n",
       "  </thead>\n",
       "  <tbody>\n",
       "    <tr>\n",
       "      <th>0</th>\n",
       "      <td>1</td>\n",
       "      <td>Argentina</td>\n",
       "      <td>15</td>\n",
       "      <td>43</td>\n",
       "      <td>423</td>\n",
       "      <td>202</td>\n",
       "      <td>127</td>\n",
       "      <td>42</td>\n",
       "      <td>33</td>\n",
       "      <td>474</td>\n",
       "      <td>182</td>\n",
       "      <td>+292</td>\n",
       "    </tr>\n",
       "    <tr>\n",
       "      <th>1</th>\n",
       "      <td>2</td>\n",
       "      <td>Uruguay</td>\n",
       "      <td>15</td>\n",
       "      <td>45</td>\n",
       "      <td>374</td>\n",
       "      <td>206</td>\n",
       "      <td>112</td>\n",
       "      <td>38</td>\n",
       "      <td>56</td>\n",
       "      <td>410</td>\n",
       "      <td>222</td>\n",
       "      <td>+188</td>\n",
       "    </tr>\n",
       "    <tr>\n",
       "      <th>2</th>\n",
       "      <td>3</td>\n",
       "      <td>Brasil</td>\n",
       "      <td>9</td>\n",
       "      <td>37</td>\n",
       "      <td>362</td>\n",
       "      <td>191</td>\n",
       "      <td>108</td>\n",
       "      <td>38</td>\n",
       "      <td>45</td>\n",
       "      <td>430</td>\n",
       "      <td>204</td>\n",
       "      <td>+226</td>\n",
       "    </tr>\n",
       "    <tr>\n",
       "      <th>3</th>\n",
       "      <td>4</td>\n",
       "      <td>Paraguay</td>\n",
       "      <td>2</td>\n",
       "      <td>38</td>\n",
       "      <td>236</td>\n",
       "      <td>177</td>\n",
       "      <td>64</td>\n",
       "      <td>44</td>\n",
       "      <td>69</td>\n",
       "      <td>264</td>\n",
       "      <td>303</td>\n",
       "      <td>–39</td>\n",
       "    </tr>\n",
       "    <tr>\n",
       "      <th>4</th>\n",
       "      <td>5</td>\n",
       "      <td>Chile</td>\n",
       "      <td>2</td>\n",
       "      <td>40</td>\n",
       "      <td>234</td>\n",
       "      <td>188</td>\n",
       "      <td>67</td>\n",
       "      <td>33</td>\n",
       "      <td>88</td>\n",
       "      <td>291</td>\n",
       "      <td>316</td>\n",
       "      <td>–25</td>\n",
       "    </tr>\n",
       "    <tr>\n",
       "      <th>5</th>\n",
       "      <td>6</td>\n",
       "      <td>Perú</td>\n",
       "      <td>2</td>\n",
       "      <td>33</td>\n",
       "      <td>213</td>\n",
       "      <td>161</td>\n",
       "      <td>58</td>\n",
       "      <td>39</td>\n",
       "      <td>64</td>\n",
       "      <td>230</td>\n",
       "      <td>255</td>\n",
       "      <td>–25</td>\n",
       "    </tr>\n",
       "    <tr>\n",
       "      <th>6</th>\n",
       "      <td>7</td>\n",
       "      <td>Colombia</td>\n",
       "      <td>1</td>\n",
       "      <td>23</td>\n",
       "      <td>172</td>\n",
       "      <td>124</td>\n",
       "      <td>49</td>\n",
       "      <td>25</td>\n",
       "      <td>50</td>\n",
       "      <td>142</td>\n",
       "      <td>191</td>\n",
       "      <td>–49</td>\n",
       "    </tr>\n",
       "    <tr>\n",
       "      <th>7</th>\n",
       "      <td>8</td>\n",
       "      <td>Bolivia</td>\n",
       "      <td>1</td>\n",
       "      <td>28</td>\n",
       "      <td>86</td>\n",
       "      <td>119</td>\n",
       "      <td>20</td>\n",
       "      <td>26</td>\n",
       "      <td>73</td>\n",
       "      <td>108</td>\n",
       "      <td>298</td>\n",
       "      <td>–190</td>\n",
       "    </tr>\n",
       "    <tr>\n",
       "      <th>8</th>\n",
       "      <td>9</td>\n",
       "      <td>Ecuador</td>\n",
       "      <td>0</td>\n",
       "      <td>29</td>\n",
       "      <td>74</td>\n",
       "      <td>126</td>\n",
       "      <td>16</td>\n",
       "      <td>26</td>\n",
       "      <td>84</td>\n",
       "      <td>134</td>\n",
       "      <td>327</td>\n",
       "      <td>–193</td>\n",
       "    </tr>\n",
       "    <tr>\n",
       "      <th>9</th>\n",
       "      <td>10</td>\n",
       "      <td>México</td>\n",
       "      <td>0</td>\n",
       "      <td>10</td>\n",
       "      <td>70</td>\n",
       "      <td>48</td>\n",
       "      <td>19</td>\n",
       "      <td>13</td>\n",
       "      <td>16</td>\n",
       "      <td>66</td>\n",
       "      <td>62</td>\n",
       "      <td>+4</td>\n",
       "    </tr>\n",
       "    <tr>\n",
       "      <th>10</th>\n",
       "      <td>11</td>\n",
       "      <td>Venezuela</td>\n",
       "      <td>0</td>\n",
       "      <td>19</td>\n",
       "      <td>41</td>\n",
       "      <td>70</td>\n",
       "      <td>8</td>\n",
       "      <td>17</td>\n",
       "      <td>45</td>\n",
       "      <td>52</td>\n",
       "      <td>180</td>\n",
       "      <td>–128</td>\n",
       "    </tr>\n",
       "    <tr>\n",
       "      <th>11</th>\n",
       "      <td>12</td>\n",
       "      <td>Costa Rica</td>\n",
       "      <td>0</td>\n",
       "      <td>5</td>\n",
       "      <td>18</td>\n",
       "      <td>17</td>\n",
       "      <td>5</td>\n",
       "      <td>3</td>\n",
       "      <td>9</td>\n",
       "      <td>17</td>\n",
       "      <td>31</td>\n",
       "      <td>–14</td>\n",
       "    </tr>\n",
       "    <tr>\n",
       "      <th>12</th>\n",
       "      <td>13</td>\n",
       "      <td>Estados Unidos</td>\n",
       "      <td>0</td>\n",
       "      <td>4</td>\n",
       "      <td>17</td>\n",
       "      <td>18</td>\n",
       "      <td>5</td>\n",
       "      <td>2</td>\n",
       "      <td>11</td>\n",
       "      <td>18</td>\n",
       "      <td>29</td>\n",
       "      <td>–11</td>\n",
       "    </tr>\n",
       "    <tr>\n",
       "      <th>13</th>\n",
       "      <td>14</td>\n",
       "      <td>Honduras</td>\n",
       "      <td>0</td>\n",
       "      <td>1</td>\n",
       "      <td>10</td>\n",
       "      <td>6</td>\n",
       "      <td>3</td>\n",
       "      <td>1</td>\n",
       "      <td>2</td>\n",
       "      <td>7</td>\n",
       "      <td>5</td>\n",
       "      <td>+2</td>\n",
       "    </tr>\n",
       "    <tr>\n",
       "      <th>14</th>\n",
       "      <td>15</td>\n",
       "      <td>Panamá</td>\n",
       "      <td>0</td>\n",
       "      <td>1</td>\n",
       "      <td>3</td>\n",
       "      <td>3</td>\n",
       "      <td>1</td>\n",
       "      <td>0</td>\n",
       "      <td>2</td>\n",
       "      <td>4</td>\n",
       "      <td>10</td>\n",
       "      <td>–6</td>\n",
       "    </tr>\n",
       "    <tr>\n",
       "      <th>15</th>\n",
       "      <td>16</td>\n",
       "      <td>Japón</td>\n",
       "      <td>0</td>\n",
       "      <td>2</td>\n",
       "      <td>3</td>\n",
       "      <td>6</td>\n",
       "      <td>0</td>\n",
       "      <td>3</td>\n",
       "      <td>3</td>\n",
       "      <td>6</td>\n",
       "      <td>15</td>\n",
       "      <td>–9</td>\n",
       "    </tr>\n",
       "    <tr>\n",
       "      <th>16</th>\n",
       "      <td>17</td>\n",
       "      <td>Catar</td>\n",
       "      <td>0</td>\n",
       "      <td>1</td>\n",
       "      <td>1</td>\n",
       "      <td>3</td>\n",
       "      <td>0</td>\n",
       "      <td>1</td>\n",
       "      <td>2</td>\n",
       "      <td>2</td>\n",
       "      <td>5</td>\n",
       "      <td>–3</td>\n",
       "    </tr>\n",
       "    <tr>\n",
       "      <th>17</th>\n",
       "      <td>18</td>\n",
       "      <td>Jamaica</td>\n",
       "      <td>0</td>\n",
       "      <td>2</td>\n",
       "      <td>0</td>\n",
       "      <td>6</td>\n",
       "      <td>0</td>\n",
       "      <td>0</td>\n",
       "      <td>6</td>\n",
       "      <td>0</td>\n",
       "      <td>9</td>\n",
       "      <td>–9</td>\n",
       "    </tr>\n",
       "    <tr>\n",
       "      <th>18</th>\n",
       "      <td>19</td>\n",
       "      <td>Haití</td>\n",
       "      <td>0</td>\n",
       "      <td>1</td>\n",
       "      <td>0</td>\n",
       "      <td>3</td>\n",
       "      <td>0</td>\n",
       "      <td>0</td>\n",
       "      <td>3</td>\n",
       "      <td>1</td>\n",
       "      <td>12</td>\n",
       "      <td>–11</td>\n",
       "    </tr>\n",
       "  </tbody>\n",
       "</table>\n",
       "</div>"
      ],
      "text/plain": [
       "     #          Equipo  Títulos  Part.  Puntos   PJ   PG  PE  PP   GF   GC   \n",
       "0    1       Argentina       15     43     423  202  127  42  33  474  182  \\\n",
       "1    2         Uruguay       15     45     374  206  112  38  56  410  222   \n",
       "2    3          Brasil        9     37     362  191  108  38  45  430  204   \n",
       "3    4        Paraguay        2     38     236  177   64  44  69  264  303   \n",
       "4    5           Chile        2     40     234  188   67  33  88  291  316   \n",
       "5    6            Perú        2     33     213  161   58  39  64  230  255   \n",
       "6    7        Colombia        1     23     172  124   49  25  50  142  191   \n",
       "7    8         Bolivia        1     28      86  119   20  26  73  108  298   \n",
       "8    9         Ecuador        0     29      74  126   16  26  84  134  327   \n",
       "9   10          México        0     10      70   48   19  13  16   66   62   \n",
       "10  11       Venezuela        0     19      41   70    8  17  45   52  180   \n",
       "11  12      Costa Rica        0      5      18   17    5   3   9   17   31   \n",
       "12  13  Estados Unidos        0      4      17   18    5   2  11   18   29   \n",
       "13  14        Honduras        0      1      10    6    3   1   2    7    5   \n",
       "14  15          Panamá        0      1       3    3    1   0   2    4   10   \n",
       "15  16           Japón        0      2       3    6    0   3   3    6   15   \n",
       "16  17           Catar        0      1       1    3    0   1   2    2    5   \n",
       "17  18         Jamaica        0      2       0    6    0   0   6    0    9   \n",
       "18  19           Haití        0      1       0    3    0   0   3    1   12   \n",
       "\n",
       "    Dif.  \n",
       "0   +292  \n",
       "1   +188  \n",
       "2   +226  \n",
       "3    –39  \n",
       "4    –25  \n",
       "5    –25  \n",
       "6    –49  \n",
       "7   –190  \n",
       "8   –193  \n",
       "9     +4  \n",
       "10  –128  \n",
       "11   –14  \n",
       "12   –11  \n",
       "13    +2  \n",
       "14    –6  \n",
       "15    –9  \n",
       "16    –3  \n",
       "17    –9  \n",
       "18   –11  "
      ]
     },
     "execution_count": 6,
     "metadata": {},
     "output_type": "execute_result"
    }
   ],
   "source": [
    "tabla_h.dropna()"
   ]
  },
  {
   "attachments": {},
   "cell_type": "markdown",
   "metadata": {},
   "source": [
    "### filna\n",
    "Se utiliza para cambiar los valores de NaN por el valor que pasemos por parametro"
   ]
  },
  {
   "cell_type": "code",
   "execution_count": null,
   "metadata": {},
   "outputs": [],
   "source": [
    "tabla_h.fillna(0)"
   ]
  },
  {
   "attachments": {},
   "cell_type": "markdown",
   "metadata": {},
   "source": [
    "#### unstack\n",
    "Se utiliza para retornar un nuevo dataframe con nuevos indices, estos indices sera"
   ]
  },
  {
   "cell_type": "code",
   "execution_count": null,
   "metadata": {},
   "outputs": [],
   "source": [
    "tabla_h.unstack()"
   ]
  },
  {
   "attachments": {},
   "cell_type": "markdown",
   "metadata": {},
   "source": [
    "## Matplotlib"
   ]
  },
  {
   "attachments": {},
   "cell_type": "markdown",
   "metadata": {},
   "source": [
    "Libreria que sirve para hacer graficos "
   ]
  },
  {
   "cell_type": "code",
   "execution_count": null,
   "metadata": {},
   "outputs": [],
   "source": [
    "from matplotlib import pylot as plt\n",
    "pokes_fuego[\"Attack\"].plot(kinda=\"bar\")# Grafico de barras\n",
    "\n",
    "etiquetas = list(pokes_fuego.index)[:5]\n",
    "data_dibujo = list(pokes_fuego.values)[:5]\n",
    "plt.pie(data_dibujo, labels=etiquetas, autopct='%1.1f%%', shadow=True, startangle=120, labeldistance= 1.1)\n",
    "plt.axis('equal')\n",
    "plt.legend(etiquetas)\n",
    "plt.title(\"Cantidad de pokemones por tipo 1\")\n",
    "plt.show()"
   ]
  },
  {
   "attachments": {},
   "cell_type": "markdown",
   "metadata": {},
   "source": [
    "## Plotly\n",
    "- Libreria para hacer graficos iteractivos\n",
    "- Usaremos Plotly express que es una version simplificada de Plotly\n",
    "\n",
    "Importante:\n",
    "\n",
    "- Plotly no acepta dataframes con MultiIndex, por ende hay que generar un nuevo dataframe con nuevos indices"
   ]
  },
  {
   "cell_type": "code",
   "execution_count": 51,
   "metadata": {},
   "outputs": [],
   "source": [
    "import pandas as pd\n",
    "import plotly.express as px\n",
    "netflix_completo = pd.read_csv(\"netflix_titles.csv\")\n",
    "netflix_completo_sin_na = netflix_completo.dropna() #Elimina las filas que contienen NaN\n",
    "contenido_por_anio = netflix_completo[[\"show_id\",\"type\",\"release_year\"]]#Nos quedamos con columnas show_id,type,release_year\n",
    "contenido_por_anio = contenido_por_anio.groupby([\"release_year\",\"type\"])[\"show_id\"].count() #Agrupamos por release_year y type, y luego mostramos la id, y contamos la cantidad de elemento de cada subgrupo"
   ]
  },
  {
   "cell_type": "code",
   "execution_count": null,
   "metadata": {},
   "outputs": [],
   "source": [
    "#matplotlib\n",
    "contenido_por_anio.plot(figsize=(10,10), xlabel=\"Año de estreno\", ylabel=\"Cantidad de estrenos\", marker=\"o\")"
   ]
  },
  {
   "attachments": {},
   "cell_type": "markdown",
   "metadata": {},
   "source": [
    "Plotly no acepta dataframes con MultiIndex, por ende hay que generar un nuevo dataframe con nuevos indices"
   ]
  },
  {
   "cell_type": "code",
   "execution_count": null,
   "metadata": {},
   "outputs": [],
   "source": [
    "contenido_por_anio.head(10)"
   ]
  },
  {
   "cell_type": "code",
   "execution_count": null,
   "metadata": {},
   "outputs": [],
   "source": [
    "contenido_por_anio = contenido_por_anio.unstack() # Pasa de multiindex a serie\n",
    "contenido_por_anio.head()"
   ]
  },
  {
   "cell_type": "code",
   "execution_count": null,
   "metadata": {},
   "outputs": [],
   "source": [
    "contenido_por_anio = contenido_por_anio.fillna(0) # Cambiamos todos los NaN por 0\n",
    "contenido_por_anio.head()"
   ]
  },
  {
   "cell_type": "code",
   "execution_count": 58,
   "metadata": {},
   "outputs": [
    {
     "data": {
      "application/vnd.plotly.v1+json": {
       "config": {
        "plotlyServerURL": "https://plot.ly"
       },
       "data": [
        {
         "hovertemplate": "type=Movie<br>release_year=%{x}<br>value=%{y}<extra></extra>",
         "legendgroup": "Movie",
         "line": {
          "color": "#636efa",
          "dash": "solid"
         },
         "marker": {
          "symbol": "circle"
         },
         "mode": "lines",
         "name": "Movie",
         "orientation": "v",
         "showlegend": true,
         "type": "scatter",
         "x": [
          1925,
          1942,
          1943,
          1944,
          1945,
          1946,
          1947,
          1954,
          1955,
          1956,
          1958,
          1959,
          1960,
          1961,
          1962,
          1963,
          1964,
          1965,
          1966,
          1967,
          1968,
          1969,
          1970,
          1971,
          1972,
          1973,
          1974,
          1975,
          1976,
          1977,
          1978,
          1979,
          1980,
          1981,
          1982,
          1983,
          1984,
          1985,
          1986,
          1987,
          1988,
          1989,
          1990,
          1991,
          1992,
          1993,
          1994,
          1995,
          1996,
          1997,
          1998,
          1999,
          2000,
          2001,
          2002,
          2003,
          2004,
          2005,
          2006,
          2007,
          2008,
          2009,
          2010,
          2011,
          2012,
          2013,
          2014,
          2015,
          2016,
          2017,
          2018,
          2019,
          2020,
          2021
         ],
         "xaxis": "x",
         "y": [
          0,
          2,
          3,
          3,
          3,
          1,
          1,
          2,
          3,
          2,
          3,
          1,
          4,
          1,
          3,
          1,
          2,
          2,
          1,
          4,
          3,
          2,
          2,
          5,
          4,
          10,
          6,
          7,
          9,
          6,
          7,
          10,
          11,
          12,
          17,
          11,
          12,
          9,
          11,
          8,
          16,
          15,
          19,
          16,
          20,
          24,
          20,
          23,
          21,
          34,
          32,
          32,
          33,
          40,
          44,
          51,
          55,
          67,
          82,
          74,
          113,
          118,
          154,
          145,
          173,
          225,
          264,
          398,
          658,
          767,
          767,
          633,
          517,
          277
         ],
         "yaxis": "y"
        },
        {
         "hovertemplate": "type=TV Show<br>release_year=%{x}<br>value=%{y}<extra></extra>",
         "legendgroup": "TV Show",
         "line": {
          "color": "#EF553B",
          "dash": "solid"
         },
         "marker": {
          "symbol": "circle"
         },
         "mode": "lines",
         "name": "TV Show",
         "orientation": "v",
         "showlegend": true,
         "type": "scatter",
         "x": [
          1925,
          1942,
          1943,
          1944,
          1945,
          1946,
          1947,
          1954,
          1955,
          1956,
          1958,
          1959,
          1960,
          1961,
          1962,
          1963,
          1964,
          1965,
          1966,
          1967,
          1968,
          1969,
          1970,
          1971,
          1972,
          1973,
          1974,
          1975,
          1976,
          1977,
          1978,
          1979,
          1980,
          1981,
          1982,
          1983,
          1984,
          1985,
          1986,
          1987,
          1988,
          1989,
          1990,
          1991,
          1992,
          1993,
          1994,
          1995,
          1996,
          1997,
          1998,
          1999,
          2000,
          2001,
          2002,
          2003,
          2004,
          2005,
          2006,
          2007,
          2008,
          2009,
          2010,
          2011,
          2012,
          2013,
          2014,
          2015,
          2016,
          2017,
          2018,
          2019,
          2020,
          2021
         ],
         "xaxis": "x",
         "y": [
          1,
          0,
          0,
          0,
          1,
          1,
          0,
          0,
          0,
          0,
          0,
          0,
          0,
          0,
          0,
          1,
          0,
          0,
          0,
          1,
          0,
          0,
          0,
          0,
          1,
          0,
          1,
          0,
          0,
          1,
          0,
          1,
          0,
          1,
          0,
          0,
          0,
          1,
          2,
          0,
          2,
          1,
          3,
          1,
          3,
          4,
          2,
          2,
          3,
          4,
          4,
          7,
          4,
          5,
          7,
          10,
          9,
          13,
          14,
          14,
          23,
          34,
          40,
          40,
          64,
          63,
          88,
          162,
          244,
          265,
          380,
          397,
          436,
          315
         ],
         "yaxis": "y"
        }
       ],
       "layout": {
        "legend": {
         "title": {
          "text": "type"
         },
         "tracegroupgap": 0
        },
        "margin": {
         "t": 60
        },
        "template": {
         "data": {
          "bar": [
           {
            "error_x": {
             "color": "#2a3f5f"
            },
            "error_y": {
             "color": "#2a3f5f"
            },
            "marker": {
             "line": {
              "color": "#E5ECF6",
              "width": 0.5
             },
             "pattern": {
              "fillmode": "overlay",
              "size": 10,
              "solidity": 0.2
             }
            },
            "type": "bar"
           }
          ],
          "barpolar": [
           {
            "marker": {
             "line": {
              "color": "#E5ECF6",
              "width": 0.5
             },
             "pattern": {
              "fillmode": "overlay",
              "size": 10,
              "solidity": 0.2
             }
            },
            "type": "barpolar"
           }
          ],
          "carpet": [
           {
            "aaxis": {
             "endlinecolor": "#2a3f5f",
             "gridcolor": "white",
             "linecolor": "white",
             "minorgridcolor": "white",
             "startlinecolor": "#2a3f5f"
            },
            "baxis": {
             "endlinecolor": "#2a3f5f",
             "gridcolor": "white",
             "linecolor": "white",
             "minorgridcolor": "white",
             "startlinecolor": "#2a3f5f"
            },
            "type": "carpet"
           }
          ],
          "choropleth": [
           {
            "colorbar": {
             "outlinewidth": 0,
             "ticks": ""
            },
            "type": "choropleth"
           }
          ],
          "contour": [
           {
            "colorbar": {
             "outlinewidth": 0,
             "ticks": ""
            },
            "colorscale": [
             [
              0,
              "#0d0887"
             ],
             [
              0.1111111111111111,
              "#46039f"
             ],
             [
              0.2222222222222222,
              "#7201a8"
             ],
             [
              0.3333333333333333,
              "#9c179e"
             ],
             [
              0.4444444444444444,
              "#bd3786"
             ],
             [
              0.5555555555555556,
              "#d8576b"
             ],
             [
              0.6666666666666666,
              "#ed7953"
             ],
             [
              0.7777777777777778,
              "#fb9f3a"
             ],
             [
              0.8888888888888888,
              "#fdca26"
             ],
             [
              1,
              "#f0f921"
             ]
            ],
            "type": "contour"
           }
          ],
          "contourcarpet": [
           {
            "colorbar": {
             "outlinewidth": 0,
             "ticks": ""
            },
            "type": "contourcarpet"
           }
          ],
          "heatmap": [
           {
            "colorbar": {
             "outlinewidth": 0,
             "ticks": ""
            },
            "colorscale": [
             [
              0,
              "#0d0887"
             ],
             [
              0.1111111111111111,
              "#46039f"
             ],
             [
              0.2222222222222222,
              "#7201a8"
             ],
             [
              0.3333333333333333,
              "#9c179e"
             ],
             [
              0.4444444444444444,
              "#bd3786"
             ],
             [
              0.5555555555555556,
              "#d8576b"
             ],
             [
              0.6666666666666666,
              "#ed7953"
             ],
             [
              0.7777777777777778,
              "#fb9f3a"
             ],
             [
              0.8888888888888888,
              "#fdca26"
             ],
             [
              1,
              "#f0f921"
             ]
            ],
            "type": "heatmap"
           }
          ],
          "heatmapgl": [
           {
            "colorbar": {
             "outlinewidth": 0,
             "ticks": ""
            },
            "colorscale": [
             [
              0,
              "#0d0887"
             ],
             [
              0.1111111111111111,
              "#46039f"
             ],
             [
              0.2222222222222222,
              "#7201a8"
             ],
             [
              0.3333333333333333,
              "#9c179e"
             ],
             [
              0.4444444444444444,
              "#bd3786"
             ],
             [
              0.5555555555555556,
              "#d8576b"
             ],
             [
              0.6666666666666666,
              "#ed7953"
             ],
             [
              0.7777777777777778,
              "#fb9f3a"
             ],
             [
              0.8888888888888888,
              "#fdca26"
             ],
             [
              1,
              "#f0f921"
             ]
            ],
            "type": "heatmapgl"
           }
          ],
          "histogram": [
           {
            "marker": {
             "pattern": {
              "fillmode": "overlay",
              "size": 10,
              "solidity": 0.2
             }
            },
            "type": "histogram"
           }
          ],
          "histogram2d": [
           {
            "colorbar": {
             "outlinewidth": 0,
             "ticks": ""
            },
            "colorscale": [
             [
              0,
              "#0d0887"
             ],
             [
              0.1111111111111111,
              "#46039f"
             ],
             [
              0.2222222222222222,
              "#7201a8"
             ],
             [
              0.3333333333333333,
              "#9c179e"
             ],
             [
              0.4444444444444444,
              "#bd3786"
             ],
             [
              0.5555555555555556,
              "#d8576b"
             ],
             [
              0.6666666666666666,
              "#ed7953"
             ],
             [
              0.7777777777777778,
              "#fb9f3a"
             ],
             [
              0.8888888888888888,
              "#fdca26"
             ],
             [
              1,
              "#f0f921"
             ]
            ],
            "type": "histogram2d"
           }
          ],
          "histogram2dcontour": [
           {
            "colorbar": {
             "outlinewidth": 0,
             "ticks": ""
            },
            "colorscale": [
             [
              0,
              "#0d0887"
             ],
             [
              0.1111111111111111,
              "#46039f"
             ],
             [
              0.2222222222222222,
              "#7201a8"
             ],
             [
              0.3333333333333333,
              "#9c179e"
             ],
             [
              0.4444444444444444,
              "#bd3786"
             ],
             [
              0.5555555555555556,
              "#d8576b"
             ],
             [
              0.6666666666666666,
              "#ed7953"
             ],
             [
              0.7777777777777778,
              "#fb9f3a"
             ],
             [
              0.8888888888888888,
              "#fdca26"
             ],
             [
              1,
              "#f0f921"
             ]
            ],
            "type": "histogram2dcontour"
           }
          ],
          "mesh3d": [
           {
            "colorbar": {
             "outlinewidth": 0,
             "ticks": ""
            },
            "type": "mesh3d"
           }
          ],
          "parcoords": [
           {
            "line": {
             "colorbar": {
              "outlinewidth": 0,
              "ticks": ""
             }
            },
            "type": "parcoords"
           }
          ],
          "pie": [
           {
            "automargin": true,
            "type": "pie"
           }
          ],
          "scatter": [
           {
            "fillpattern": {
             "fillmode": "overlay",
             "size": 10,
             "solidity": 0.2
            },
            "type": "scatter"
           }
          ],
          "scatter3d": [
           {
            "line": {
             "colorbar": {
              "outlinewidth": 0,
              "ticks": ""
             }
            },
            "marker": {
             "colorbar": {
              "outlinewidth": 0,
              "ticks": ""
             }
            },
            "type": "scatter3d"
           }
          ],
          "scattercarpet": [
           {
            "marker": {
             "colorbar": {
              "outlinewidth": 0,
              "ticks": ""
             }
            },
            "type": "scattercarpet"
           }
          ],
          "scattergeo": [
           {
            "marker": {
             "colorbar": {
              "outlinewidth": 0,
              "ticks": ""
             }
            },
            "type": "scattergeo"
           }
          ],
          "scattergl": [
           {
            "marker": {
             "colorbar": {
              "outlinewidth": 0,
              "ticks": ""
             }
            },
            "type": "scattergl"
           }
          ],
          "scattermapbox": [
           {
            "marker": {
             "colorbar": {
              "outlinewidth": 0,
              "ticks": ""
             }
            },
            "type": "scattermapbox"
           }
          ],
          "scatterpolar": [
           {
            "marker": {
             "colorbar": {
              "outlinewidth": 0,
              "ticks": ""
             }
            },
            "type": "scatterpolar"
           }
          ],
          "scatterpolargl": [
           {
            "marker": {
             "colorbar": {
              "outlinewidth": 0,
              "ticks": ""
             }
            },
            "type": "scatterpolargl"
           }
          ],
          "scatterternary": [
           {
            "marker": {
             "colorbar": {
              "outlinewidth": 0,
              "ticks": ""
             }
            },
            "type": "scatterternary"
           }
          ],
          "surface": [
           {
            "colorbar": {
             "outlinewidth": 0,
             "ticks": ""
            },
            "colorscale": [
             [
              0,
              "#0d0887"
             ],
             [
              0.1111111111111111,
              "#46039f"
             ],
             [
              0.2222222222222222,
              "#7201a8"
             ],
             [
              0.3333333333333333,
              "#9c179e"
             ],
             [
              0.4444444444444444,
              "#bd3786"
             ],
             [
              0.5555555555555556,
              "#d8576b"
             ],
             [
              0.6666666666666666,
              "#ed7953"
             ],
             [
              0.7777777777777778,
              "#fb9f3a"
             ],
             [
              0.8888888888888888,
              "#fdca26"
             ],
             [
              1,
              "#f0f921"
             ]
            ],
            "type": "surface"
           }
          ],
          "table": [
           {
            "cells": {
             "fill": {
              "color": "#EBF0F8"
             },
             "line": {
              "color": "white"
             }
            },
            "header": {
             "fill": {
              "color": "#C8D4E3"
             },
             "line": {
              "color": "white"
             }
            },
            "type": "table"
           }
          ]
         },
         "layout": {
          "annotationdefaults": {
           "arrowcolor": "#2a3f5f",
           "arrowhead": 0,
           "arrowwidth": 1
          },
          "autotypenumbers": "strict",
          "coloraxis": {
           "colorbar": {
            "outlinewidth": 0,
            "ticks": ""
           }
          },
          "colorscale": {
           "diverging": [
            [
             0,
             "#8e0152"
            ],
            [
             0.1,
             "#c51b7d"
            ],
            [
             0.2,
             "#de77ae"
            ],
            [
             0.3,
             "#f1b6da"
            ],
            [
             0.4,
             "#fde0ef"
            ],
            [
             0.5,
             "#f7f7f7"
            ],
            [
             0.6,
             "#e6f5d0"
            ],
            [
             0.7,
             "#b8e186"
            ],
            [
             0.8,
             "#7fbc41"
            ],
            [
             0.9,
             "#4d9221"
            ],
            [
             1,
             "#276419"
            ]
           ],
           "sequential": [
            [
             0,
             "#0d0887"
            ],
            [
             0.1111111111111111,
             "#46039f"
            ],
            [
             0.2222222222222222,
             "#7201a8"
            ],
            [
             0.3333333333333333,
             "#9c179e"
            ],
            [
             0.4444444444444444,
             "#bd3786"
            ],
            [
             0.5555555555555556,
             "#d8576b"
            ],
            [
             0.6666666666666666,
             "#ed7953"
            ],
            [
             0.7777777777777778,
             "#fb9f3a"
            ],
            [
             0.8888888888888888,
             "#fdca26"
            ],
            [
             1,
             "#f0f921"
            ]
           ],
           "sequentialminus": [
            [
             0,
             "#0d0887"
            ],
            [
             0.1111111111111111,
             "#46039f"
            ],
            [
             0.2222222222222222,
             "#7201a8"
            ],
            [
             0.3333333333333333,
             "#9c179e"
            ],
            [
             0.4444444444444444,
             "#bd3786"
            ],
            [
             0.5555555555555556,
             "#d8576b"
            ],
            [
             0.6666666666666666,
             "#ed7953"
            ],
            [
             0.7777777777777778,
             "#fb9f3a"
            ],
            [
             0.8888888888888888,
             "#fdca26"
            ],
            [
             1,
             "#f0f921"
            ]
           ]
          },
          "colorway": [
           "#636efa",
           "#EF553B",
           "#00cc96",
           "#ab63fa",
           "#FFA15A",
           "#19d3f3",
           "#FF6692",
           "#B6E880",
           "#FF97FF",
           "#FECB52"
          ],
          "font": {
           "color": "#2a3f5f"
          },
          "geo": {
           "bgcolor": "white",
           "lakecolor": "white",
           "landcolor": "#E5ECF6",
           "showlakes": true,
           "showland": true,
           "subunitcolor": "white"
          },
          "hoverlabel": {
           "align": "left"
          },
          "hovermode": "closest",
          "mapbox": {
           "style": "light"
          },
          "paper_bgcolor": "white",
          "plot_bgcolor": "#E5ECF6",
          "polar": {
           "angularaxis": {
            "gridcolor": "white",
            "linecolor": "white",
            "ticks": ""
           },
           "bgcolor": "#E5ECF6",
           "radialaxis": {
            "gridcolor": "white",
            "linecolor": "white",
            "ticks": ""
           }
          },
          "scene": {
           "xaxis": {
            "backgroundcolor": "#E5ECF6",
            "gridcolor": "white",
            "gridwidth": 2,
            "linecolor": "white",
            "showbackground": true,
            "ticks": "",
            "zerolinecolor": "white"
           },
           "yaxis": {
            "backgroundcolor": "#E5ECF6",
            "gridcolor": "white",
            "gridwidth": 2,
            "linecolor": "white",
            "showbackground": true,
            "ticks": "",
            "zerolinecolor": "white"
           },
           "zaxis": {
            "backgroundcolor": "#E5ECF6",
            "gridcolor": "white",
            "gridwidth": 2,
            "linecolor": "white",
            "showbackground": true,
            "ticks": "",
            "zerolinecolor": "white"
           }
          },
          "shapedefaults": {
           "line": {
            "color": "#2a3f5f"
           }
          },
          "ternary": {
           "aaxis": {
            "gridcolor": "white",
            "linecolor": "white",
            "ticks": ""
           },
           "baxis": {
            "gridcolor": "white",
            "linecolor": "white",
            "ticks": ""
           },
           "bgcolor": "#E5ECF6",
           "caxis": {
            "gridcolor": "white",
            "linecolor": "white",
            "ticks": ""
           }
          },
          "title": {
           "x": 0.05
          },
          "xaxis": {
           "automargin": true,
           "gridcolor": "white",
           "linecolor": "white",
           "ticks": "",
           "title": {
            "standoff": 15
           },
           "zerolinecolor": "white",
           "zerolinewidth": 2
          },
          "yaxis": {
           "automargin": true,
           "gridcolor": "white",
           "linecolor": "white",
           "ticks": "",
           "title": {
            "standoff": 15
           },
           "zerolinecolor": "white",
           "zerolinewidth": 2
          }
         }
        },
        "xaxis": {
         "anchor": "y",
         "domain": [
          0,
          1
         ],
         "title": {
          "text": "release_year"
         }
        },
        "yaxis": {
         "anchor": "x",
         "domain": [
          0,
          1
         ],
         "title": {
          "text": "value"
         }
        }
       }
      }
     },
     "metadata": {},
     "output_type": "display_data"
    }
   ],
   "source": [
    "#PLotly\n",
    "fig= px.line(contenido_por_anio) # Creamos grafico interactivo de tipo lineal \n",
    "fig.show() #Lo mostramos"
   ]
  }
 ],
 "metadata": {
  "kernelspec": {
   "display_name": "Python 3",
   "language": "python",
   "name": "python3"
  },
  "language_info": {
   "codemirror_mode": {
    "name": "ipython",
    "version": 3
   },
   "file_extension": ".py",
   "mimetype": "text/x-python",
   "name": "python",
   "nbconvert_exporter": "python",
   "pygments_lexer": "ipython3",
   "version": "3.11.1"
  },
  "orig_nbformat": 4
 },
 "nbformat": 4,
 "nbformat_minor": 2
}
